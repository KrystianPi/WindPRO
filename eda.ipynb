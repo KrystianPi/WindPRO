{
 "cells": [
  {
   "cell_type": "code",
   "execution_count": 97,
   "metadata": {},
   "outputs": [],
   "source": [
    "import pandas as pd\n",
    "from sqlalchemy import create_engine\n",
    "import json\n",
    "import warnings\n",
    "import seaborn as sns\n",
    "warnings.filterwarnings(\"ignore\")\n",
    "import plotly.express as px\n",
    "import numpy as np"
   ]
  },
  {
   "cell_type": "code",
   "execution_count": 98,
   "metadata": {},
   "outputs": [],
   "source": [
    "# Read the MySQL configuration from the JSON file\n",
    "with open('config.json', 'r') as config_file:\n",
    "    config = json.load(config_file)"
   ]
  },
  {
   "cell_type": "code",
   "execution_count": 99,
   "metadata": {},
   "outputs": [],
   "source": [
    "# Extract MySQL connection details\n",
    "mysql_config = config.get('mysql', {})\n",
    "username = mysql_config.get('username', 'default_username')\n",
    "password = mysql_config.get('password', 'default_password')\n",
    "host = mysql_config.get('host', 'localhost')\n",
    "database_name = mysql_config.get('database_name', 'your_database')\n",
    "table_name = 'measurments_rewa'"
   ]
  },
  {
   "cell_type": "code",
   "execution_count": 100,
   "metadata": {},
   "outputs": [],
   "source": [
    "# Create the MySQL database connection string\n",
    "db_url = f\"mysql+mysqlconnector://{username}:{password}@{host}/{database_name}\"\n",
    "\n",
    "# Create an SQLAlchemy engine\n",
    "engine = create_engine(db_url)\n",
    "\n",
    "# Use the engine to connect to the database\n",
    "connection = engine.connect()"
   ]
  },
  {
   "cell_type": "code",
   "execution_count": 101,
   "metadata": {},
   "outputs": [],
   "source": [
    "# Specify the SQL query to retrieve data from a table\n",
    "query = \"SELECT * FROM joined_wind_data\"\n",
    "\n",
    "# Use Pandas to read data from the database into a DataFrame\n",
    "df = pd.read_sql(query, connection)\n",
    "\n",
    "# Close the database connection\n",
    "connection.close()"
   ]
  },
  {
   "cell_type": "code",
   "execution_count": 112,
   "metadata": {},
   "outputs": [
    {
     "data": {
      "text/html": [
       "<div>\n",
       "<style scoped>\n",
       "    .dataframe tbody tr th:only-of-type {\n",
       "        vertical-align: middle;\n",
       "    }\n",
       "\n",
       "    .dataframe tbody tr th {\n",
       "        vertical-align: top;\n",
       "    }\n",
       "\n",
       "    .dataframe thead th {\n",
       "        text-align: right;\n",
       "    }\n",
       "</style>\n",
       "<table border=\"1\" class=\"dataframe\">\n",
       "  <thead>\n",
       "    <tr style=\"text-align: right;\">\n",
       "      <th></th>\n",
       "      <th>LeftTableTime</th>\n",
       "      <th>RightTableTime</th>\n",
       "      <th>WindForecast</th>\n",
       "      <th>GustForecast</th>\n",
       "      <th>TempForecast</th>\n",
       "      <th>PrecipitationForecast</th>\n",
       "      <th>CloudForecast</th>\n",
       "      <th>WindDirForecast</th>\n",
       "      <th>WindDirBinForecast</th>\n",
       "      <th>WindMeasured</th>\n",
       "      <th>GustMeasured</th>\n",
       "      <th>TempMeasured</th>\n",
       "      <th>WindDirMeasured</th>\n",
       "      <th>BaroMeasured</th>\n",
       "      <th>Month</th>\n",
       "      <th>delta</th>\n",
       "      <th>WindMeasuredBin</th>\n",
       "      <th>WindDirMeasuredBin</th>\n",
       "    </tr>\n",
       "  </thead>\n",
       "  <tbody>\n",
       "    <tr>\n",
       "      <th>0</th>\n",
       "      <td>2021-01-26 00:00:00</td>\n",
       "      <td>2021-01-26 02:00:00</td>\n",
       "      <td>12.0</td>\n",
       "      <td>16.0</td>\n",
       "      <td>2.0</td>\n",
       "      <td>0.0</td>\n",
       "      <td>100.0</td>\n",
       "      <td>287.0</td>\n",
       "      <td>W</td>\n",
       "      <td>5.1</td>\n",
       "      <td>5.8</td>\n",
       "      <td>1.2</td>\n",
       "      <td>236.0</td>\n",
       "      <td>1027.5</td>\n",
       "      <td>1</td>\n",
       "      <td>-6.9</td>\n",
       "      <td>4-6</td>\n",
       "      <td>SW</td>\n",
       "    </tr>\n",
       "    <tr>\n",
       "      <th>1</th>\n",
       "      <td>2021-01-26 00:10:00</td>\n",
       "      <td>2021-01-26 02:00:00</td>\n",
       "      <td>12.0</td>\n",
       "      <td>16.0</td>\n",
       "      <td>2.0</td>\n",
       "      <td>0.0</td>\n",
       "      <td>100.0</td>\n",
       "      <td>287.0</td>\n",
       "      <td>W</td>\n",
       "      <td>5.5</td>\n",
       "      <td>6.5</td>\n",
       "      <td>1.2</td>\n",
       "      <td>234.0</td>\n",
       "      <td>1027.6</td>\n",
       "      <td>1</td>\n",
       "      <td>-6.5</td>\n",
       "      <td>4-6</td>\n",
       "      <td>SW</td>\n",
       "    </tr>\n",
       "    <tr>\n",
       "      <th>2</th>\n",
       "      <td>2021-01-26 00:20:00</td>\n",
       "      <td>2021-01-26 02:00:00</td>\n",
       "      <td>12.0</td>\n",
       "      <td>16.0</td>\n",
       "      <td>2.0</td>\n",
       "      <td>0.0</td>\n",
       "      <td>100.0</td>\n",
       "      <td>287.0</td>\n",
       "      <td>W</td>\n",
       "      <td>5.1</td>\n",
       "      <td>5.8</td>\n",
       "      <td>1.3</td>\n",
       "      <td>261.0</td>\n",
       "      <td>1027.5</td>\n",
       "      <td>1</td>\n",
       "      <td>-6.9</td>\n",
       "      <td>4-6</td>\n",
       "      <td>SW</td>\n",
       "    </tr>\n",
       "    <tr>\n",
       "      <th>3</th>\n",
       "      <td>2021-01-26 00:30:00</td>\n",
       "      <td>2021-01-26 02:00:00</td>\n",
       "      <td>12.0</td>\n",
       "      <td>16.0</td>\n",
       "      <td>2.0</td>\n",
       "      <td>0.0</td>\n",
       "      <td>100.0</td>\n",
       "      <td>287.0</td>\n",
       "      <td>W</td>\n",
       "      <td>5.2</td>\n",
       "      <td>6.1</td>\n",
       "      <td>1.1</td>\n",
       "      <td>242.0</td>\n",
       "      <td>1027.4</td>\n",
       "      <td>1</td>\n",
       "      <td>-6.8</td>\n",
       "      <td>4-6</td>\n",
       "      <td>SW</td>\n",
       "    </tr>\n",
       "    <tr>\n",
       "      <th>4</th>\n",
       "      <td>2021-01-26 00:40:00</td>\n",
       "      <td>2021-01-26 02:00:00</td>\n",
       "      <td>12.0</td>\n",
       "      <td>16.0</td>\n",
       "      <td>2.0</td>\n",
       "      <td>0.0</td>\n",
       "      <td>100.0</td>\n",
       "      <td>287.0</td>\n",
       "      <td>W</td>\n",
       "      <td>5.6</td>\n",
       "      <td>6.1</td>\n",
       "      <td>1.1</td>\n",
       "      <td>244.0</td>\n",
       "      <td>1027.5</td>\n",
       "      <td>1</td>\n",
       "      <td>-6.4</td>\n",
       "      <td>4-6</td>\n",
       "      <td>SW</td>\n",
       "    </tr>\n",
       "    <tr>\n",
       "      <th>...</th>\n",
       "      <td>...</td>\n",
       "      <td>...</td>\n",
       "      <td>...</td>\n",
       "      <td>...</td>\n",
       "      <td>...</td>\n",
       "      <td>...</td>\n",
       "      <td>...</td>\n",
       "      <td>...</td>\n",
       "      <td>...</td>\n",
       "      <td>...</td>\n",
       "      <td>...</td>\n",
       "      <td>...</td>\n",
       "      <td>...</td>\n",
       "      <td>...</td>\n",
       "      <td>...</td>\n",
       "      <td>...</td>\n",
       "      <td>...</td>\n",
       "      <td>...</td>\n",
       "    </tr>\n",
       "    <tr>\n",
       "      <th>114103</th>\n",
       "      <td>2023-05-07 23:10:00</td>\n",
       "      <td>2023-05-08 00:00:00</td>\n",
       "      <td>7.0</td>\n",
       "      <td>15.0</td>\n",
       "      <td>7.0</td>\n",
       "      <td>0.0</td>\n",
       "      <td>5.0</td>\n",
       "      <td>81.0</td>\n",
       "      <td>NE</td>\n",
       "      <td>1.0</td>\n",
       "      <td>1.7</td>\n",
       "      <td>-6.2</td>\n",
       "      <td>132.0</td>\n",
       "      <td>1014.7</td>\n",
       "      <td>5</td>\n",
       "      <td>-6.0</td>\n",
       "      <td>0-2</td>\n",
       "      <td>E</td>\n",
       "    </tr>\n",
       "    <tr>\n",
       "      <th>114104</th>\n",
       "      <td>2023-05-07 23:20:00</td>\n",
       "      <td>2023-05-08 00:00:00</td>\n",
       "      <td>7.0</td>\n",
       "      <td>15.0</td>\n",
       "      <td>7.0</td>\n",
       "      <td>0.0</td>\n",
       "      <td>5.0</td>\n",
       "      <td>81.0</td>\n",
       "      <td>NE</td>\n",
       "      <td>1.7</td>\n",
       "      <td>2.4</td>\n",
       "      <td>-6.1</td>\n",
       "      <td>119.0</td>\n",
       "      <td>1014.9</td>\n",
       "      <td>5</td>\n",
       "      <td>-5.3</td>\n",
       "      <td>0-2</td>\n",
       "      <td>E</td>\n",
       "    </tr>\n",
       "    <tr>\n",
       "      <th>114105</th>\n",
       "      <td>2023-05-07 23:30:00</td>\n",
       "      <td>2023-05-08 00:00:00</td>\n",
       "      <td>7.0</td>\n",
       "      <td>15.0</td>\n",
       "      <td>7.0</td>\n",
       "      <td>0.0</td>\n",
       "      <td>5.0</td>\n",
       "      <td>81.0</td>\n",
       "      <td>NE</td>\n",
       "      <td>1.0</td>\n",
       "      <td>2.4</td>\n",
       "      <td>-6.1</td>\n",
       "      <td>116.0</td>\n",
       "      <td>1014.9</td>\n",
       "      <td>5</td>\n",
       "      <td>-6.0</td>\n",
       "      <td>0-2</td>\n",
       "      <td>E</td>\n",
       "    </tr>\n",
       "    <tr>\n",
       "      <th>114106</th>\n",
       "      <td>2023-05-07 23:40:00</td>\n",
       "      <td>2023-05-08 00:00:00</td>\n",
       "      <td>7.0</td>\n",
       "      <td>15.0</td>\n",
       "      <td>7.0</td>\n",
       "      <td>0.0</td>\n",
       "      <td>5.0</td>\n",
       "      <td>81.0</td>\n",
       "      <td>NE</td>\n",
       "      <td>2.0</td>\n",
       "      <td>2.7</td>\n",
       "      <td>-6.0</td>\n",
       "      <td>129.0</td>\n",
       "      <td>1015.0</td>\n",
       "      <td>5</td>\n",
       "      <td>-5.0</td>\n",
       "      <td>0-2</td>\n",
       "      <td>E</td>\n",
       "    </tr>\n",
       "    <tr>\n",
       "      <th>114107</th>\n",
       "      <td>2023-05-07 23:50:00</td>\n",
       "      <td>2023-05-08 00:00:00</td>\n",
       "      <td>7.0</td>\n",
       "      <td>15.0</td>\n",
       "      <td>7.0</td>\n",
       "      <td>0.0</td>\n",
       "      <td>5.0</td>\n",
       "      <td>81.0</td>\n",
       "      <td>NE</td>\n",
       "      <td>1.7</td>\n",
       "      <td>2.7</td>\n",
       "      <td>-6.1</td>\n",
       "      <td>131.0</td>\n",
       "      <td>1015.0</td>\n",
       "      <td>5</td>\n",
       "      <td>-5.3</td>\n",
       "      <td>0-2</td>\n",
       "      <td>E</td>\n",
       "    </tr>\n",
       "  </tbody>\n",
       "</table>\n",
       "<p>114108 rows × 18 columns</p>\n",
       "</div>"
      ],
      "text/plain": [
       "             LeftTableTime      RightTableTime  WindForecast  GustForecast  \\\n",
       "0      2021-01-26 00:00:00 2021-01-26 02:00:00          12.0          16.0   \n",
       "1      2021-01-26 00:10:00 2021-01-26 02:00:00          12.0          16.0   \n",
       "2      2021-01-26 00:20:00 2021-01-26 02:00:00          12.0          16.0   \n",
       "3      2021-01-26 00:30:00 2021-01-26 02:00:00          12.0          16.0   \n",
       "4      2021-01-26 00:40:00 2021-01-26 02:00:00          12.0          16.0   \n",
       "...                    ...                 ...           ...           ...   \n",
       "114103 2023-05-07 23:10:00 2023-05-08 00:00:00           7.0          15.0   \n",
       "114104 2023-05-07 23:20:00 2023-05-08 00:00:00           7.0          15.0   \n",
       "114105 2023-05-07 23:30:00 2023-05-08 00:00:00           7.0          15.0   \n",
       "114106 2023-05-07 23:40:00 2023-05-08 00:00:00           7.0          15.0   \n",
       "114107 2023-05-07 23:50:00 2023-05-08 00:00:00           7.0          15.0   \n",
       "\n",
       "        TempForecast  PrecipitationForecast  CloudForecast  WindDirForecast  \\\n",
       "0                2.0                    0.0          100.0            287.0   \n",
       "1                2.0                    0.0          100.0            287.0   \n",
       "2                2.0                    0.0          100.0            287.0   \n",
       "3                2.0                    0.0          100.0            287.0   \n",
       "4                2.0                    0.0          100.0            287.0   \n",
       "...              ...                    ...            ...              ...   \n",
       "114103           7.0                    0.0            5.0             81.0   \n",
       "114104           7.0                    0.0            5.0             81.0   \n",
       "114105           7.0                    0.0            5.0             81.0   \n",
       "114106           7.0                    0.0            5.0             81.0   \n",
       "114107           7.0                    0.0            5.0             81.0   \n",
       "\n",
       "       WindDirBinForecast  WindMeasured  GustMeasured  TempMeasured  \\\n",
       "0                       W           5.1           5.8           1.2   \n",
       "1                       W           5.5           6.5           1.2   \n",
       "2                       W           5.1           5.8           1.3   \n",
       "3                       W           5.2           6.1           1.1   \n",
       "4                       W           5.6           6.1           1.1   \n",
       "...                   ...           ...           ...           ...   \n",
       "114103                 NE           1.0           1.7          -6.2   \n",
       "114104                 NE           1.7           2.4          -6.1   \n",
       "114105                 NE           1.0           2.4          -6.1   \n",
       "114106                 NE           2.0           2.7          -6.0   \n",
       "114107                 NE           1.7           2.7          -6.1   \n",
       "\n",
       "        WindDirMeasured  BaroMeasured  Month  delta WindMeasuredBin  \\\n",
       "0                 236.0        1027.5      1   -6.9             4-6   \n",
       "1                 234.0        1027.6      1   -6.5             4-6   \n",
       "2                 261.0        1027.5      1   -6.9             4-6   \n",
       "3                 242.0        1027.4      1   -6.8             4-6   \n",
       "4                 244.0        1027.5      1   -6.4             4-6   \n",
       "...                 ...           ...    ...    ...             ...   \n",
       "114103            132.0        1014.7      5   -6.0             0-2   \n",
       "114104            119.0        1014.9      5   -5.3             0-2   \n",
       "114105            116.0        1014.9      5   -6.0             0-2   \n",
       "114106            129.0        1015.0      5   -5.0             0-2   \n",
       "114107            131.0        1015.0      5   -5.3             0-2   \n",
       "\n",
       "       WindDirMeasuredBin  \n",
       "0                      SW  \n",
       "1                      SW  \n",
       "2                      SW  \n",
       "3                      SW  \n",
       "4                      SW  \n",
       "...                   ...  \n",
       "114103                  E  \n",
       "114104                  E  \n",
       "114105                  E  \n",
       "114106                  E  \n",
       "114107                  E  \n",
       "\n",
       "[114108 rows x 18 columns]"
      ]
     },
     "execution_count": 112,
     "metadata": {},
     "output_type": "execute_result"
    }
   ],
   "source": [
    "# Calculate delta\n",
    "df['delta'] = df['WindMeasured'] - df['WindForecast']\n",
    "df"
   ]
  },
  {
   "cell_type": "code",
   "execution_count": 103,
   "metadata": {},
   "outputs": [],
   "source": [
    "# Assuming 'df' is your DataFrame with wind data\n",
    "# You can define your bins and labels for wind speed\n",
    "bins = [0, 2, 4, 6, 8, 10, 12, 14, 16, 18, 20, 22, 24, 26]  # Customize bin edges as needed\n",
    "labels = ['0-2', '2-4', '4-6', '6-8', '8-10', '10-12', '12-14', '14-16', '16-18', '18-20', '20-22', '22-24','24-26']\n",
    "\n",
    "# Create a new column 'WindSpeedBin' with the binned wind speeds\n",
    "df['WindMeasuredBin'] = pd.cut(df['WindMeasured'], bins=bins, labels=labels)\n",
    "\n",
    "# Define wind direction bins\n",
    "bins = [0, 45, 90, 135, 180, 225, 270, 315, 360]\n",
    "labels = ['N', 'NE', 'E', 'SE', 'S', 'SW', 'W', 'NW']\n",
    "\n",
    "# Bin wind directions and calculate mean wind speed for each bin\n",
    "df['WindDirMeasuredBin'] = pd.cut(df['WindDirMeasured'], bins=bins, labels=labels)\n",
    "#aggregated_data = df.groupby('WindDirBin')['WindSpeed'].count().reset_index()\n",
    "aggregated_data = df.groupby(['WindDirMeasuredBin', 'WindMeasuredBin']).agg({'WindMeasured':'mean', 'delta':'mean','WindDirMeasured':'count'}).reset_index()"
   ]
  },
  {
   "cell_type": "code",
   "execution_count": 108,
   "metadata": {},
   "outputs": [],
   "source": [
    "aggregated_data['FrequencyMeasured'] = np.round(aggregated_data['WindDirMeasured']/aggregated_data['WindDirMeasured'].sum(),3)*100"
   ]
  },
  {
   "cell_type": "code",
   "execution_count": 109,
   "metadata": {},
   "outputs": [
    {
     "data": {
      "text/html": [
       "<div>\n",
       "<style scoped>\n",
       "    .dataframe tbody tr th:only-of-type {\n",
       "        vertical-align: middle;\n",
       "    }\n",
       "\n",
       "    .dataframe tbody tr th {\n",
       "        vertical-align: top;\n",
       "    }\n",
       "\n",
       "    .dataframe thead th {\n",
       "        text-align: right;\n",
       "    }\n",
       "</style>\n",
       "<table border=\"1\" class=\"dataframe\">\n",
       "  <thead>\n",
       "    <tr style=\"text-align: right;\">\n",
       "      <th></th>\n",
       "      <th>WindDirMeasuredBin</th>\n",
       "      <th>WindMeasuredBin</th>\n",
       "      <th>WindMeasured</th>\n",
       "      <th>delta</th>\n",
       "      <th>WindDirMeasured</th>\n",
       "      <th>FrequencyMeasured</th>\n",
       "    </tr>\n",
       "  </thead>\n",
       "  <tbody>\n",
       "    <tr>\n",
       "      <th>0</th>\n",
       "      <td>N</td>\n",
       "      <td>0-2</td>\n",
       "      <td>1.432031</td>\n",
       "      <td>-4.238585</td>\n",
       "      <td>768</td>\n",
       "      <td>0.7</td>\n",
       "    </tr>\n",
       "    <tr>\n",
       "      <th>1</th>\n",
       "      <td>N</td>\n",
       "      <td>2-4</td>\n",
       "      <td>3.116319</td>\n",
       "      <td>-3.685814</td>\n",
       "      <td>1581</td>\n",
       "      <td>1.4</td>\n",
       "    </tr>\n",
       "    <tr>\n",
       "      <th>2</th>\n",
       "      <td>N</td>\n",
       "      <td>4-6</td>\n",
       "      <td>4.998579</td>\n",
       "      <td>-2.930113</td>\n",
       "      <td>2041</td>\n",
       "      <td>1.8</td>\n",
       "    </tr>\n",
       "    <tr>\n",
       "      <th>3</th>\n",
       "      <td>N</td>\n",
       "      <td>6-8</td>\n",
       "      <td>6.940764</td>\n",
       "      <td>-3.253045</td>\n",
       "      <td>1413</td>\n",
       "      <td>1.2</td>\n",
       "    </tr>\n",
       "    <tr>\n",
       "      <th>4</th>\n",
       "      <td>N</td>\n",
       "      <td>8-10</td>\n",
       "      <td>8.944770</td>\n",
       "      <td>-4.050342</td>\n",
       "      <td>1023</td>\n",
       "      <td>0.9</td>\n",
       "    </tr>\n",
       "    <tr>\n",
       "      <th>...</th>\n",
       "      <td>...</td>\n",
       "      <td>...</td>\n",
       "      <td>...</td>\n",
       "      <td>...</td>\n",
       "      <td>...</td>\n",
       "      <td>...</td>\n",
       "    </tr>\n",
       "    <tr>\n",
       "      <th>99</th>\n",
       "      <td>NW</td>\n",
       "      <td>16-18</td>\n",
       "      <td>16.990625</td>\n",
       "      <td>-4.616518</td>\n",
       "      <td>224</td>\n",
       "      <td>0.2</td>\n",
       "    </tr>\n",
       "    <tr>\n",
       "      <th>100</th>\n",
       "      <td>NW</td>\n",
       "      <td>18-20</td>\n",
       "      <td>18.975325</td>\n",
       "      <td>-5.751948</td>\n",
       "      <td>77</td>\n",
       "      <td>0.1</td>\n",
       "    </tr>\n",
       "    <tr>\n",
       "      <th>101</th>\n",
       "      <td>NW</td>\n",
       "      <td>20-22</td>\n",
       "      <td>20.954762</td>\n",
       "      <td>-4.854762</td>\n",
       "      <td>42</td>\n",
       "      <td>0.0</td>\n",
       "    </tr>\n",
       "    <tr>\n",
       "      <th>102</th>\n",
       "      <td>NW</td>\n",
       "      <td>22-24</td>\n",
       "      <td>22.783333</td>\n",
       "      <td>-3.438889</td>\n",
       "      <td>18</td>\n",
       "      <td>0.0</td>\n",
       "    </tr>\n",
       "    <tr>\n",
       "      <th>103</th>\n",
       "      <td>NW</td>\n",
       "      <td>24-26</td>\n",
       "      <td>24.716667</td>\n",
       "      <td>-2.450000</td>\n",
       "      <td>6</td>\n",
       "      <td>0.0</td>\n",
       "    </tr>\n",
       "  </tbody>\n",
       "</table>\n",
       "<p>104 rows × 6 columns</p>\n",
       "</div>"
      ],
      "text/plain": [
       "    WindDirMeasuredBin WindMeasuredBin  WindMeasured     delta  \\\n",
       "0                    N             0-2      1.432031 -4.238585   \n",
       "1                    N             2-4      3.116319 -3.685814   \n",
       "2                    N             4-6      4.998579 -2.930113   \n",
       "3                    N             6-8      6.940764 -3.253045   \n",
       "4                    N            8-10      8.944770 -4.050342   \n",
       "..                 ...             ...           ...       ...   \n",
       "99                  NW           16-18     16.990625 -4.616518   \n",
       "100                 NW           18-20     18.975325 -5.751948   \n",
       "101                 NW           20-22     20.954762 -4.854762   \n",
       "102                 NW           22-24     22.783333 -3.438889   \n",
       "103                 NW           24-26     24.716667 -2.450000   \n",
       "\n",
       "     WindDirMeasured  FrequencyMeasured  \n",
       "0                768                0.7  \n",
       "1               1581                1.4  \n",
       "2               2041                1.8  \n",
       "3               1413                1.2  \n",
       "4               1023                0.9  \n",
       "..               ...                ...  \n",
       "99               224                0.2  \n",
       "100               77                0.1  \n",
       "101               42                0.0  \n",
       "102               18                0.0  \n",
       "103                6                0.0  \n",
       "\n",
       "[104 rows x 6 columns]"
      ]
     },
     "execution_count": 109,
     "metadata": {},
     "output_type": "execute_result"
    }
   ],
   "source": [
    "aggregated_data"
   ]
  },
  {
   "cell_type": "code",
   "execution_count": 107,
   "metadata": {},
   "outputs": [
    {
     "data": {
      "application/vnd.plotly.v1+json": {
       "config": {
        "plotlyServerURL": "https://plot.ly"
       },
       "data": [
        {
         "hovertemplate": "FrequencyMeasured=%{r}<br>WindDirMeasuredBin=%{theta}<br>delta=%{marker.color}<extra></extra>",
         "legendgroup": "",
         "marker": {
          "color": [
           -4.238584779706275,
           -3.6858138062064594,
           -2.930112800392349,
           -3.253045325779037,
           -4.050342130987293,
           -4.623574730354391,
           -4.978406708595387,
           -4.479141104294479,
           -4.131818181818182,
           -2.8999999999999986,
           null,
           null,
           null,
           -4.2964166666666666,
           -4.299792746113989,
           -5.588030690537084,
           -6.522846441947566,
           -6.567523364485981,
           -6.021354166666666,
           -7.103448275862069,
           -4.566666666666666,
           -2.366666666666667,
           -1.3000000000000007,
           -0.8999999999999986,
           null,
           null,
           -4.670774647887324,
           -3.9922594797869,
           -4.411575408261287,
           -5.084371584699453,
           -5.7251879699248125,
           -7.006363636363637,
           -6.50327868852459,
           -7.06923076923077,
           null,
           null,
           null,
           null,
           null,
           -4.894830827067669,
           -4.578169263456091,
           -5.376263426659623,
           -6.2980654238480485,
           -6.4668866886688665,
           -6.463486842105263,
           -5.691358024691358,
           -3.9543478260869565,
           -3.744444444444444,
           -3.6000000000000014,
           null,
           null,
           null,
           -4.847281131049483,
           -6.199817992719709,
           -7.433261687264911,
           -7.674829157175399,
           -7.536778115501519,
           -7.9,
           -7.764583333333333,
           -5.46,
           -3.6999999999999993,
           -6.899999999999999,
           null,
           null,
           null,
           -3.5940905159988468,
           -4.213853452820243,
           -5.745619658119658,
           -6.705834394904459,
           -7.920059347181009,
           -7.795224719101124,
           -8.143402777777778,
           -8.121794871794872,
           -6.794,
           -7.019999999999999,
           -4.35,
           -6.800000000000001,
           null,
           -3.2109327983951856,
           -3.4166077738515903,
           -4.237124802527647,
           -4.548144163528779,
           -4.852261633582818,
           -5.428715728715728,
           -5.835312747426761,
           -5.864077669902913,
           -6.4287449392712555,
           -8.307042253521129,
           -7.997058823529411,
           -6.907500000000001,
           -5.4750000000000005,
           -4.806467661691542,
           -3.9236225895316807,
           -3.613369223867205,
           -3.2965879265091864,
           -3.189270199826238,
           -3.4531096563011454,
           -4.855954323001631,
           -4.712470588235294,
           -4.616517857142858,
           -5.751948051948052,
           -4.854761904761905,
           -3.438888888888889,
           -2.4499999999999993
          ],
          "coloraxis": "coloraxis",
          "pattern": {
           "shape": ""
          }
         },
         "name": "",
         "r": [
          0.7000000000000001,
          1.4000000000000001,
          1.7999999999999998,
          1.2,
          0.8999999999999999,
          0.6,
          0.4,
          0.1,
          0,
          0,
          0,
          0,
          0,
          1.0999999999999999,
          2.6,
          1.7000000000000002,
          0.7000000000000001,
          0.4,
          0.2,
          0.1,
          0,
          0,
          0,
          0,
          0,
          0,
          1.3,
          2.8000000000000003,
          1.7999999999999998,
          0.8,
          0.2,
          0.1,
          0.1,
          0,
          0,
          0,
          0,
          0,
          0,
          2.8000000000000003,
          5,
          5.1,
          2.5,
          0.8,
          0.3,
          0.1,
          0,
          0,
          0,
          0,
          0,
          0,
          3.3000000000000003,
          3.4000000000000004,
          1.7000000000000002,
          0.8,
          0.3,
          0.1,
          0,
          0,
          0,
          0,
          0,
          0,
          0,
          3.1,
          8.4,
          7.3999999999999995,
          3.5000000000000004,
          1.5,
          0.6,
          0.3,
          0.1,
          0,
          0,
          0,
          0,
          0,
          0.8999999999999999,
          2.5,
          3.9,
          3.3000000000000003,
          2.7,
          1.7999999999999998,
          1.0999999999999999,
          0.5,
          0.2,
          0.1,
          0.1,
          0.1,
          0,
          0.7000000000000001,
          1.3,
          2,
          2,
          2,
          1.0999999999999999,
          0.5,
          0.4,
          0.2,
          0.1,
          0,
          0,
          0
         ],
         "showlegend": false,
         "subplot": "polar",
         "theta": [
          "N",
          "N",
          "N",
          "N",
          "N",
          "N",
          "N",
          "N",
          "N",
          "N",
          "N",
          "N",
          "N",
          "NE",
          "NE",
          "NE",
          "NE",
          "NE",
          "NE",
          "NE",
          "NE",
          "NE",
          "NE",
          "NE",
          "NE",
          "NE",
          "E",
          "E",
          "E",
          "E",
          "E",
          "E",
          "E",
          "E",
          "E",
          "E",
          "E",
          "E",
          "E",
          "SE",
          "SE",
          "SE",
          "SE",
          "SE",
          "SE",
          "SE",
          "SE",
          "SE",
          "SE",
          "SE",
          "SE",
          "SE",
          "S",
          "S",
          "S",
          "S",
          "S",
          "S",
          "S",
          "S",
          "S",
          "S",
          "S",
          "S",
          "S",
          "SW",
          "SW",
          "SW",
          "SW",
          "SW",
          "SW",
          "SW",
          "SW",
          "SW",
          "SW",
          "SW",
          "SW",
          "SW",
          "W",
          "W",
          "W",
          "W",
          "W",
          "W",
          "W",
          "W",
          "W",
          "W",
          "W",
          "W",
          "W",
          "NW",
          "NW",
          "NW",
          "NW",
          "NW",
          "NW",
          "NW",
          "NW",
          "NW",
          "NW",
          "NW",
          "NW",
          "NW"
         ],
         "type": "barpolar"
        }
       ],
       "layout": {
        "barmode": "relative",
        "coloraxis": {
         "colorbar": {
          "title": {
           "text": "delta"
          }
         },
         "colorscale": [
          [
           0,
           "#0d0887"
          ],
          [
           0.1111111111111111,
           "#46039f"
          ],
          [
           0.2222222222222222,
           "#7201a8"
          ],
          [
           0.3333333333333333,
           "#9c179e"
          ],
          [
           0.4444444444444444,
           "#bd3786"
          ],
          [
           0.5555555555555556,
           "#d8576b"
          ],
          [
           0.6666666666666666,
           "#ed7953"
          ],
          [
           0.7777777777777778,
           "#fb9f3a"
          ],
          [
           0.8888888888888888,
           "#fdca26"
          ],
          [
           1,
           "#f0f921"
          ]
         ]
        },
        "height": 800,
        "legend": {
         "tracegroupgap": 0
        },
        "margin": {
         "t": 60
        },
        "polar": {
         "angularaxis": {
          "direction": "clockwise",
          "rotation": 90
         },
         "domain": {
          "x": [
           0,
           1
          ],
          "y": [
           0,
           1
          ]
         }
        },
        "template": {
         "data": {
          "bar": [
           {
            "error_x": {
             "color": "#f2f5fa"
            },
            "error_y": {
             "color": "#f2f5fa"
            },
            "marker": {
             "line": {
              "color": "rgb(17,17,17)",
              "width": 0.5
             },
             "pattern": {
              "fillmode": "overlay",
              "size": 10,
              "solidity": 0.2
             }
            },
            "type": "bar"
           }
          ],
          "barpolar": [
           {
            "marker": {
             "line": {
              "color": "rgb(17,17,17)",
              "width": 0.5
             },
             "pattern": {
              "fillmode": "overlay",
              "size": 10,
              "solidity": 0.2
             }
            },
            "type": "barpolar"
           }
          ],
          "carpet": [
           {
            "aaxis": {
             "endlinecolor": "#A2B1C6",
             "gridcolor": "#506784",
             "linecolor": "#506784",
             "minorgridcolor": "#506784",
             "startlinecolor": "#A2B1C6"
            },
            "baxis": {
             "endlinecolor": "#A2B1C6",
             "gridcolor": "#506784",
             "linecolor": "#506784",
             "minorgridcolor": "#506784",
             "startlinecolor": "#A2B1C6"
            },
            "type": "carpet"
           }
          ],
          "choropleth": [
           {
            "colorbar": {
             "outlinewidth": 0,
             "ticks": ""
            },
            "type": "choropleth"
           }
          ],
          "contour": [
           {
            "colorbar": {
             "outlinewidth": 0,
             "ticks": ""
            },
            "colorscale": [
             [
              0,
              "#0d0887"
             ],
             [
              0.1111111111111111,
              "#46039f"
             ],
             [
              0.2222222222222222,
              "#7201a8"
             ],
             [
              0.3333333333333333,
              "#9c179e"
             ],
             [
              0.4444444444444444,
              "#bd3786"
             ],
             [
              0.5555555555555556,
              "#d8576b"
             ],
             [
              0.6666666666666666,
              "#ed7953"
             ],
             [
              0.7777777777777778,
              "#fb9f3a"
             ],
             [
              0.8888888888888888,
              "#fdca26"
             ],
             [
              1,
              "#f0f921"
             ]
            ],
            "type": "contour"
           }
          ],
          "contourcarpet": [
           {
            "colorbar": {
             "outlinewidth": 0,
             "ticks": ""
            },
            "type": "contourcarpet"
           }
          ],
          "heatmap": [
           {
            "colorbar": {
             "outlinewidth": 0,
             "ticks": ""
            },
            "colorscale": [
             [
              0,
              "#0d0887"
             ],
             [
              0.1111111111111111,
              "#46039f"
             ],
             [
              0.2222222222222222,
              "#7201a8"
             ],
             [
              0.3333333333333333,
              "#9c179e"
             ],
             [
              0.4444444444444444,
              "#bd3786"
             ],
             [
              0.5555555555555556,
              "#d8576b"
             ],
             [
              0.6666666666666666,
              "#ed7953"
             ],
             [
              0.7777777777777778,
              "#fb9f3a"
             ],
             [
              0.8888888888888888,
              "#fdca26"
             ],
             [
              1,
              "#f0f921"
             ]
            ],
            "type": "heatmap"
           }
          ],
          "heatmapgl": [
           {
            "colorbar": {
             "outlinewidth": 0,
             "ticks": ""
            },
            "colorscale": [
             [
              0,
              "#0d0887"
             ],
             [
              0.1111111111111111,
              "#46039f"
             ],
             [
              0.2222222222222222,
              "#7201a8"
             ],
             [
              0.3333333333333333,
              "#9c179e"
             ],
             [
              0.4444444444444444,
              "#bd3786"
             ],
             [
              0.5555555555555556,
              "#d8576b"
             ],
             [
              0.6666666666666666,
              "#ed7953"
             ],
             [
              0.7777777777777778,
              "#fb9f3a"
             ],
             [
              0.8888888888888888,
              "#fdca26"
             ],
             [
              1,
              "#f0f921"
             ]
            ],
            "type": "heatmapgl"
           }
          ],
          "histogram": [
           {
            "marker": {
             "pattern": {
              "fillmode": "overlay",
              "size": 10,
              "solidity": 0.2
             }
            },
            "type": "histogram"
           }
          ],
          "histogram2d": [
           {
            "colorbar": {
             "outlinewidth": 0,
             "ticks": ""
            },
            "colorscale": [
             [
              0,
              "#0d0887"
             ],
             [
              0.1111111111111111,
              "#46039f"
             ],
             [
              0.2222222222222222,
              "#7201a8"
             ],
             [
              0.3333333333333333,
              "#9c179e"
             ],
             [
              0.4444444444444444,
              "#bd3786"
             ],
             [
              0.5555555555555556,
              "#d8576b"
             ],
             [
              0.6666666666666666,
              "#ed7953"
             ],
             [
              0.7777777777777778,
              "#fb9f3a"
             ],
             [
              0.8888888888888888,
              "#fdca26"
             ],
             [
              1,
              "#f0f921"
             ]
            ],
            "type": "histogram2d"
           }
          ],
          "histogram2dcontour": [
           {
            "colorbar": {
             "outlinewidth": 0,
             "ticks": ""
            },
            "colorscale": [
             [
              0,
              "#0d0887"
             ],
             [
              0.1111111111111111,
              "#46039f"
             ],
             [
              0.2222222222222222,
              "#7201a8"
             ],
             [
              0.3333333333333333,
              "#9c179e"
             ],
             [
              0.4444444444444444,
              "#bd3786"
             ],
             [
              0.5555555555555556,
              "#d8576b"
             ],
             [
              0.6666666666666666,
              "#ed7953"
             ],
             [
              0.7777777777777778,
              "#fb9f3a"
             ],
             [
              0.8888888888888888,
              "#fdca26"
             ],
             [
              1,
              "#f0f921"
             ]
            ],
            "type": "histogram2dcontour"
           }
          ],
          "mesh3d": [
           {
            "colorbar": {
             "outlinewidth": 0,
             "ticks": ""
            },
            "type": "mesh3d"
           }
          ],
          "parcoords": [
           {
            "line": {
             "colorbar": {
              "outlinewidth": 0,
              "ticks": ""
             }
            },
            "type": "parcoords"
           }
          ],
          "pie": [
           {
            "automargin": true,
            "type": "pie"
           }
          ],
          "scatter": [
           {
            "marker": {
             "line": {
              "color": "#283442"
             }
            },
            "type": "scatter"
           }
          ],
          "scatter3d": [
           {
            "line": {
             "colorbar": {
              "outlinewidth": 0,
              "ticks": ""
             }
            },
            "marker": {
             "colorbar": {
              "outlinewidth": 0,
              "ticks": ""
             }
            },
            "type": "scatter3d"
           }
          ],
          "scattercarpet": [
           {
            "marker": {
             "colorbar": {
              "outlinewidth": 0,
              "ticks": ""
             }
            },
            "type": "scattercarpet"
           }
          ],
          "scattergeo": [
           {
            "marker": {
             "colorbar": {
              "outlinewidth": 0,
              "ticks": ""
             }
            },
            "type": "scattergeo"
           }
          ],
          "scattergl": [
           {
            "marker": {
             "line": {
              "color": "#283442"
             }
            },
            "type": "scattergl"
           }
          ],
          "scattermapbox": [
           {
            "marker": {
             "colorbar": {
              "outlinewidth": 0,
              "ticks": ""
             }
            },
            "type": "scattermapbox"
           }
          ],
          "scatterpolar": [
           {
            "marker": {
             "colorbar": {
              "outlinewidth": 0,
              "ticks": ""
             }
            },
            "type": "scatterpolar"
           }
          ],
          "scatterpolargl": [
           {
            "marker": {
             "colorbar": {
              "outlinewidth": 0,
              "ticks": ""
             }
            },
            "type": "scatterpolargl"
           }
          ],
          "scatterternary": [
           {
            "marker": {
             "colorbar": {
              "outlinewidth": 0,
              "ticks": ""
             }
            },
            "type": "scatterternary"
           }
          ],
          "surface": [
           {
            "colorbar": {
             "outlinewidth": 0,
             "ticks": ""
            },
            "colorscale": [
             [
              0,
              "#0d0887"
             ],
             [
              0.1111111111111111,
              "#46039f"
             ],
             [
              0.2222222222222222,
              "#7201a8"
             ],
             [
              0.3333333333333333,
              "#9c179e"
             ],
             [
              0.4444444444444444,
              "#bd3786"
             ],
             [
              0.5555555555555556,
              "#d8576b"
             ],
             [
              0.6666666666666666,
              "#ed7953"
             ],
             [
              0.7777777777777778,
              "#fb9f3a"
             ],
             [
              0.8888888888888888,
              "#fdca26"
             ],
             [
              1,
              "#f0f921"
             ]
            ],
            "type": "surface"
           }
          ],
          "table": [
           {
            "cells": {
             "fill": {
              "color": "#506784"
             },
             "line": {
              "color": "rgb(17,17,17)"
             }
            },
            "header": {
             "fill": {
              "color": "#2a3f5f"
             },
             "line": {
              "color": "rgb(17,17,17)"
             }
            },
            "type": "table"
           }
          ]
         },
         "layout": {
          "annotationdefaults": {
           "arrowcolor": "#f2f5fa",
           "arrowhead": 0,
           "arrowwidth": 1
          },
          "autotypenumbers": "strict",
          "coloraxis": {
           "colorbar": {
            "outlinewidth": 0,
            "ticks": ""
           }
          },
          "colorscale": {
           "diverging": [
            [
             0,
             "#8e0152"
            ],
            [
             0.1,
             "#c51b7d"
            ],
            [
             0.2,
             "#de77ae"
            ],
            [
             0.3,
             "#f1b6da"
            ],
            [
             0.4,
             "#fde0ef"
            ],
            [
             0.5,
             "#f7f7f7"
            ],
            [
             0.6,
             "#e6f5d0"
            ],
            [
             0.7,
             "#b8e186"
            ],
            [
             0.8,
             "#7fbc41"
            ],
            [
             0.9,
             "#4d9221"
            ],
            [
             1,
             "#276419"
            ]
           ],
           "sequential": [
            [
             0,
             "#0d0887"
            ],
            [
             0.1111111111111111,
             "#46039f"
            ],
            [
             0.2222222222222222,
             "#7201a8"
            ],
            [
             0.3333333333333333,
             "#9c179e"
            ],
            [
             0.4444444444444444,
             "#bd3786"
            ],
            [
             0.5555555555555556,
             "#d8576b"
            ],
            [
             0.6666666666666666,
             "#ed7953"
            ],
            [
             0.7777777777777778,
             "#fb9f3a"
            ],
            [
             0.8888888888888888,
             "#fdca26"
            ],
            [
             1,
             "#f0f921"
            ]
           ],
           "sequentialminus": [
            [
             0,
             "#0d0887"
            ],
            [
             0.1111111111111111,
             "#46039f"
            ],
            [
             0.2222222222222222,
             "#7201a8"
            ],
            [
             0.3333333333333333,
             "#9c179e"
            ],
            [
             0.4444444444444444,
             "#bd3786"
            ],
            [
             0.5555555555555556,
             "#d8576b"
            ],
            [
             0.6666666666666666,
             "#ed7953"
            ],
            [
             0.7777777777777778,
             "#fb9f3a"
            ],
            [
             0.8888888888888888,
             "#fdca26"
            ],
            [
             1,
             "#f0f921"
            ]
           ]
          },
          "colorway": [
           "#636efa",
           "#EF553B",
           "#00cc96",
           "#ab63fa",
           "#FFA15A",
           "#19d3f3",
           "#FF6692",
           "#B6E880",
           "#FF97FF",
           "#FECB52"
          ],
          "font": {
           "color": "#f2f5fa"
          },
          "geo": {
           "bgcolor": "rgb(17,17,17)",
           "lakecolor": "rgb(17,17,17)",
           "landcolor": "rgb(17,17,17)",
           "showlakes": true,
           "showland": true,
           "subunitcolor": "#506784"
          },
          "hoverlabel": {
           "align": "left"
          },
          "hovermode": "closest",
          "mapbox": {
           "style": "dark"
          },
          "paper_bgcolor": "rgb(17,17,17)",
          "plot_bgcolor": "rgb(17,17,17)",
          "polar": {
           "angularaxis": {
            "gridcolor": "#506784",
            "linecolor": "#506784",
            "ticks": ""
           },
           "bgcolor": "rgb(17,17,17)",
           "radialaxis": {
            "gridcolor": "#506784",
            "linecolor": "#506784",
            "ticks": ""
           }
          },
          "scene": {
           "xaxis": {
            "backgroundcolor": "rgb(17,17,17)",
            "gridcolor": "#506784",
            "gridwidth": 2,
            "linecolor": "#506784",
            "showbackground": true,
            "ticks": "",
            "zerolinecolor": "#C8D4E3"
           },
           "yaxis": {
            "backgroundcolor": "rgb(17,17,17)",
            "gridcolor": "#506784",
            "gridwidth": 2,
            "linecolor": "#506784",
            "showbackground": true,
            "ticks": "",
            "zerolinecolor": "#C8D4E3"
           },
           "zaxis": {
            "backgroundcolor": "rgb(17,17,17)",
            "gridcolor": "#506784",
            "gridwidth": 2,
            "linecolor": "#506784",
            "showbackground": true,
            "ticks": "",
            "zerolinecolor": "#C8D4E3"
           }
          },
          "shapedefaults": {
           "line": {
            "color": "#f2f5fa"
           }
          },
          "sliderdefaults": {
           "bgcolor": "#C8D4E3",
           "bordercolor": "rgb(17,17,17)",
           "borderwidth": 1,
           "tickwidth": 0
          },
          "ternary": {
           "aaxis": {
            "gridcolor": "#506784",
            "linecolor": "#506784",
            "ticks": ""
           },
           "baxis": {
            "gridcolor": "#506784",
            "linecolor": "#506784",
            "ticks": ""
           },
           "bgcolor": "rgb(17,17,17)",
           "caxis": {
            "gridcolor": "#506784",
            "linecolor": "#506784",
            "ticks": ""
           }
          },
          "title": {
           "x": 0.05
          },
          "updatemenudefaults": {
           "bgcolor": "#506784",
           "borderwidth": 0
          },
          "xaxis": {
           "automargin": true,
           "gridcolor": "#283442",
           "linecolor": "#506784",
           "ticks": "",
           "title": {
            "standoff": 15
           },
           "zerolinecolor": "#283442",
           "zerolinewidth": 2
          },
          "yaxis": {
           "automargin": true,
           "gridcolor": "#283442",
           "linecolor": "#506784",
           "ticks": "",
           "title": {
            "standoff": 15
           },
           "zerolinecolor": "#283442",
           "zerolinewidth": 2
          }
         }
        },
        "width": 1600
       }
      }
     },
     "metadata": {},
     "output_type": "display_data"
    }
   ],
   "source": [
    "# Create a wind rose plot\n",
    "fig = px.bar_polar(aggregated_data, r='FrequencyMeasured', theta='WindDirMeasuredBin', color='delta',\n",
    "                   template='plotly_dark', color_discrete_sequence=px.colors.sequential.Plasma_r)\n",
    "# Set the figure size\n",
    "fig.update_layout(width=1600, height=800)\n",
    "fig.show()"
   ]
  },
  {
   "cell_type": "code",
   "execution_count": 118,
   "metadata": {},
   "outputs": [
    {
     "data": {
      "text/plain": [
       "<seaborn.axisgrid.FacetGrid at 0x1511609a0>"
      ]
     },
     "execution_count": 118,
     "metadata": {},
     "output_type": "execute_result"
    },
    {
     "data": {
      "image/png": "[encoded data removed]",
      "text/plain": [
       "<Figure size 567.75x500 with 1 Axes>"
      ]
     },
     "metadata": {},
     "output_type": "display_data"
    }
   ],
   "source": [
    "df['Month'].astype('category')\n",
    "sns.displot(data=df, x='delta', hue='Month', kind='hist')"
   ]
  }
 ],
 "metadata": {
  "kernelspec": {
   "display_name": "Python 3",
   "language": "python",
   "name": "python3"
  },
  "language_info": {
   "codemirror_mode": {
    "name": "ipython",
    "version": 3
   },
   "file_extension": ".py",
   "mimetype": "text/x-python",
   "name": "python",
   "nbconvert_exporter": "python",
   "pygments_lexer": "ipython3",
   "version": "3.10.12"
  },
  "orig_nbformat": 4
 },
 "nbformat": 4,
 "nbformat_minor": 2
}
