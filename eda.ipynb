{
 "cells": [
  {
   "cell_type": "code",
   "execution_count": 76,
   "metadata": {},
   "outputs": [],
   "source": [
    "import pandas as pd\n",
    "from sqlalchemy import create_engine\n",
    "import json\n",
    "import warnings\n",
    "import seaborn as sns\n",
    "warnings.filterwarnings(\"ignore\")\n",
    "import plotly.express as px\n",
    "import numpy as np\n",
    "from sklearn.model_selection import train_test_split\n",
    "from sklearn.ensemble import RandomForestRegressor"
   ]
  },
  {
   "cell_type": "code",
   "execution_count": 65,
   "metadata": {},
   "outputs": [],
   "source": [
    "# Read the MySQL configuration from the JSON file\n",
    "with open('config.json', 'r') as config_file:\n",
    "    config = json.load(config_file)"
   ]
  },
  {
   "cell_type": "code",
   "execution_count": 66,
   "metadata": {},
   "outputs": [],
   "source": [
    "# Extract MySQL connection details\n",
    "mysql_config = config.get('mysql', {})\n",
    "username = mysql_config.get('username', 'default_username')\n",
    "password = mysql_config.get('password', 'default_password')\n",
    "host = mysql_config.get('host', 'localhost')\n",
    "database_name = mysql_config.get('database_name', 'your_database')"
   ]
  },
  {
   "cell_type": "code",
   "execution_count": 67,
   "metadata": {},
   "outputs": [],
   "source": [
    "# Create the MySQL database connection string\n",
    "db_url = f\"mysql+mysqlconnector://{username}:{password}@{host}/{database_name}\"\n",
    "\n",
    "# Create an SQLAlchemy engine\n",
    "engine = create_engine(db_url)\n",
    "\n",
    "# Use the engine to connect to the database\n",
    "connection = engine.connect()"
   ]
  },
  {
   "cell_type": "code",
   "execution_count": 68,
   "metadata": {},
   "outputs": [],
   "source": [
    "# Specify the SQL query to retrieve data from a table\n",
    "query = \"SELECT * FROM joined_rewa\"\n",
    "\n",
    "# Use Pandas to read data from the database into a DataFrame\n",
    "df = pd.read_sql(query, connection)\n",
    "\n",
    "# Close the database connection\n",
    "connection.close()"
   ]
  },
  {
   "cell_type": "code",
   "execution_count": 69,
   "metadata": {},
   "outputs": [
    {
     "data": {
      "text/html": [
       "<div>\n",
       "<style scoped>\n",
       "    .dataframe tbody tr th:only-of-type {\n",
       "        vertical-align: middle;\n",
       "    }\n",
       "\n",
       "    .dataframe tbody tr th {\n",
       "        vertical-align: top;\n",
       "    }\n",
       "\n",
       "    .dataframe thead th {\n",
       "        text-align: right;\n",
       "    }\n",
       "</style>\n",
       "<table border=\"1\" class=\"dataframe\">\n",
       "  <thead>\n",
       "    <tr style=\"text-align: right;\">\n",
       "      <th></th>\n",
       "      <th>LeftTableTime</th>\n",
       "      <th>RightTableTime</th>\n",
       "      <th>WindForecast</th>\n",
       "      <th>GustForecast</th>\n",
       "      <th>TempForecast</th>\n",
       "      <th>PrecipitationForecast</th>\n",
       "      <th>CloudForecast</th>\n",
       "      <th>WindDirForecast</th>\n",
       "      <th>WindDirBinForecast</th>\n",
       "      <th>WindMeasured</th>\n",
       "      <th>GustMeasured</th>\n",
       "      <th>TempMeasured</th>\n",
       "      <th>WindDirMeasured</th>\n",
       "      <th>BaroMeasured</th>\n",
       "      <th>Month</th>\n",
       "      <th>delta</th>\n",
       "    </tr>\n",
       "  </thead>\n",
       "  <tbody>\n",
       "    <tr>\n",
       "      <th>0</th>\n",
       "      <td>2021-01-26 00:00:00</td>\n",
       "      <td>2021-01-26 02:00:00</td>\n",
       "      <td>12.0</td>\n",
       "      <td>16.0</td>\n",
       "      <td>2.0</td>\n",
       "      <td>0.0</td>\n",
       "      <td>100.0</td>\n",
       "      <td>287.0</td>\n",
       "      <td>W</td>\n",
       "      <td>9.91</td>\n",
       "      <td>11.27</td>\n",
       "      <td>1.2</td>\n",
       "      <td>236.0</td>\n",
       "      <td>1027.5</td>\n",
       "      <td>1</td>\n",
       "      <td>-2.09</td>\n",
       "    </tr>\n",
       "    <tr>\n",
       "      <th>1</th>\n",
       "      <td>2021-01-26 00:10:00</td>\n",
       "      <td>2021-01-26 02:00:00</td>\n",
       "      <td>12.0</td>\n",
       "      <td>16.0</td>\n",
       "      <td>2.0</td>\n",
       "      <td>0.0</td>\n",
       "      <td>100.0</td>\n",
       "      <td>287.0</td>\n",
       "      <td>W</td>\n",
       "      <td>10.69</td>\n",
       "      <td>12.63</td>\n",
       "      <td>1.2</td>\n",
       "      <td>234.0</td>\n",
       "      <td>1027.6</td>\n",
       "      <td>1</td>\n",
       "      <td>-1.31</td>\n",
       "    </tr>\n",
       "    <tr>\n",
       "      <th>2</th>\n",
       "      <td>2021-01-26 00:20:00</td>\n",
       "      <td>2021-01-26 02:00:00</td>\n",
       "      <td>12.0</td>\n",
       "      <td>16.0</td>\n",
       "      <td>2.0</td>\n",
       "      <td>0.0</td>\n",
       "      <td>100.0</td>\n",
       "      <td>287.0</td>\n",
       "      <td>W</td>\n",
       "      <td>9.91</td>\n",
       "      <td>11.27</td>\n",
       "      <td>1.3</td>\n",
       "      <td>261.0</td>\n",
       "      <td>1027.5</td>\n",
       "      <td>1</td>\n",
       "      <td>-2.09</td>\n",
       "    </tr>\n",
       "    <tr>\n",
       "      <th>3</th>\n",
       "      <td>2021-01-26 00:30:00</td>\n",
       "      <td>2021-01-26 02:00:00</td>\n",
       "      <td>12.0</td>\n",
       "      <td>16.0</td>\n",
       "      <td>2.0</td>\n",
       "      <td>0.0</td>\n",
       "      <td>100.0</td>\n",
       "      <td>287.0</td>\n",
       "      <td>W</td>\n",
       "      <td>10.11</td>\n",
       "      <td>11.86</td>\n",
       "      <td>1.1</td>\n",
       "      <td>242.0</td>\n",
       "      <td>1027.4</td>\n",
       "      <td>1</td>\n",
       "      <td>-1.89</td>\n",
       "    </tr>\n",
       "    <tr>\n",
       "      <th>4</th>\n",
       "      <td>2021-01-26 00:40:00</td>\n",
       "      <td>2021-01-26 02:00:00</td>\n",
       "      <td>12.0</td>\n",
       "      <td>16.0</td>\n",
       "      <td>2.0</td>\n",
       "      <td>0.0</td>\n",
       "      <td>100.0</td>\n",
       "      <td>287.0</td>\n",
       "      <td>W</td>\n",
       "      <td>10.89</td>\n",
       "      <td>11.86</td>\n",
       "      <td>1.1</td>\n",
       "      <td>244.0</td>\n",
       "      <td>1027.5</td>\n",
       "      <td>1</td>\n",
       "      <td>-1.11</td>\n",
       "    </tr>\n",
       "    <tr>\n",
       "      <th>...</th>\n",
       "      <td>...</td>\n",
       "      <td>...</td>\n",
       "      <td>...</td>\n",
       "      <td>...</td>\n",
       "      <td>...</td>\n",
       "      <td>...</td>\n",
       "      <td>...</td>\n",
       "      <td>...</td>\n",
       "      <td>...</td>\n",
       "      <td>...</td>\n",
       "      <td>...</td>\n",
       "      <td>...</td>\n",
       "      <td>...</td>\n",
       "      <td>...</td>\n",
       "      <td>...</td>\n",
       "      <td>...</td>\n",
       "    </tr>\n",
       "    <tr>\n",
       "      <th>127897</th>\n",
       "      <td>2023-10-02 21:10:00</td>\n",
       "      <td>2023-10-02 22:00:00</td>\n",
       "      <td>8.0</td>\n",
       "      <td>19.0</td>\n",
       "      <td>18.0</td>\n",
       "      <td>0.0</td>\n",
       "      <td>100.0</td>\n",
       "      <td>223.0</td>\n",
       "      <td>S</td>\n",
       "      <td>0.58</td>\n",
       "      <td>1.94</td>\n",
       "      <td>17.4</td>\n",
       "      <td>225.0</td>\n",
       "      <td>1012.6</td>\n",
       "      <td>10</td>\n",
       "      <td>-7.42</td>\n",
       "    </tr>\n",
       "    <tr>\n",
       "      <th>127898</th>\n",
       "      <td>2023-10-02 21:20:00</td>\n",
       "      <td>2023-10-02 22:00:00</td>\n",
       "      <td>8.0</td>\n",
       "      <td>19.0</td>\n",
       "      <td>18.0</td>\n",
       "      <td>0.0</td>\n",
       "      <td>100.0</td>\n",
       "      <td>223.0</td>\n",
       "      <td>S</td>\n",
       "      <td>0.58</td>\n",
       "      <td>1.94</td>\n",
       "      <td>17.4</td>\n",
       "      <td>182.0</td>\n",
       "      <td>1012.7</td>\n",
       "      <td>10</td>\n",
       "      <td>-7.42</td>\n",
       "    </tr>\n",
       "    <tr>\n",
       "      <th>127899</th>\n",
       "      <td>2023-10-02 21:30:00</td>\n",
       "      <td>2023-10-02 22:00:00</td>\n",
       "      <td>8.0</td>\n",
       "      <td>19.0</td>\n",
       "      <td>18.0</td>\n",
       "      <td>0.0</td>\n",
       "      <td>100.0</td>\n",
       "      <td>223.0</td>\n",
       "      <td>S</td>\n",
       "      <td>1.36</td>\n",
       "      <td>3.30</td>\n",
       "      <td>17.2</td>\n",
       "      <td>157.0</td>\n",
       "      <td>1012.6</td>\n",
       "      <td>10</td>\n",
       "      <td>-6.64</td>\n",
       "    </tr>\n",
       "    <tr>\n",
       "      <th>127900</th>\n",
       "      <td>2023-10-02 21:40:00</td>\n",
       "      <td>2023-10-02 22:00:00</td>\n",
       "      <td>8.0</td>\n",
       "      <td>19.0</td>\n",
       "      <td>18.0</td>\n",
       "      <td>0.0</td>\n",
       "      <td>100.0</td>\n",
       "      <td>223.0</td>\n",
       "      <td>S</td>\n",
       "      <td>1.94</td>\n",
       "      <td>3.89</td>\n",
       "      <td>17.1</td>\n",
       "      <td>183.0</td>\n",
       "      <td>1012.4</td>\n",
       "      <td>10</td>\n",
       "      <td>-6.06</td>\n",
       "    </tr>\n",
       "    <tr>\n",
       "      <th>127901</th>\n",
       "      <td>2023-10-02 21:50:00</td>\n",
       "      <td>2023-10-02 22:00:00</td>\n",
       "      <td>8.0</td>\n",
       "      <td>19.0</td>\n",
       "      <td>18.0</td>\n",
       "      <td>0.0</td>\n",
       "      <td>100.0</td>\n",
       "      <td>223.0</td>\n",
       "      <td>S</td>\n",
       "      <td>1.94</td>\n",
       "      <td>3.89</td>\n",
       "      <td>17.3</td>\n",
       "      <td>183.0</td>\n",
       "      <td>1012.6</td>\n",
       "      <td>10</td>\n",
       "      <td>-6.06</td>\n",
       "    </tr>\n",
       "  </tbody>\n",
       "</table>\n",
       "<p>127902 rows × 16 columns</p>\n",
       "</div>"
      ],
      "text/plain": [
       "             LeftTableTime      RightTableTime  WindForecast  GustForecast  \\\n",
       "0      2021-01-26 00:00:00 2021-01-26 02:00:00          12.0          16.0   \n",
       "1      2021-01-26 00:10:00 2021-01-26 02:00:00          12.0          16.0   \n",
       "2      2021-01-26 00:20:00 2021-01-26 02:00:00          12.0          16.0   \n",
       "3      2021-01-26 00:30:00 2021-01-26 02:00:00          12.0          16.0   \n",
       "4      2021-01-26 00:40:00 2021-01-26 02:00:00          12.0          16.0   \n",
       "...                    ...                 ...           ...           ...   \n",
       "127897 2023-10-02 21:10:00 2023-10-02 22:00:00           8.0          19.0   \n",
       "127898 2023-10-02 21:20:00 2023-10-02 22:00:00           8.0          19.0   \n",
       "127899 2023-10-02 21:30:00 2023-10-02 22:00:00           8.0          19.0   \n",
       "127900 2023-10-02 21:40:00 2023-10-02 22:00:00           8.0          19.0   \n",
       "127901 2023-10-02 21:50:00 2023-10-02 22:00:00           8.0          19.0   \n",
       "\n",
       "        TempForecast  PrecipitationForecast  CloudForecast  WindDirForecast  \\\n",
       "0                2.0                    0.0          100.0            287.0   \n",
       "1                2.0                    0.0          100.0            287.0   \n",
       "2                2.0                    0.0          100.0            287.0   \n",
       "3                2.0                    0.0          100.0            287.0   \n",
       "4                2.0                    0.0          100.0            287.0   \n",
       "...              ...                    ...            ...              ...   \n",
       "127897          18.0                    0.0          100.0            223.0   \n",
       "127898          18.0                    0.0          100.0            223.0   \n",
       "127899          18.0                    0.0          100.0            223.0   \n",
       "127900          18.0                    0.0          100.0            223.0   \n",
       "127901          18.0                    0.0          100.0            223.0   \n",
       "\n",
       "       WindDirBinForecast  WindMeasured  GustMeasured  TempMeasured  \\\n",
       "0                       W          9.91         11.27           1.2   \n",
       "1                       W         10.69         12.63           1.2   \n",
       "2                       W          9.91         11.27           1.3   \n",
       "3                       W         10.11         11.86           1.1   \n",
       "4                       W         10.89         11.86           1.1   \n",
       "...                   ...           ...           ...           ...   \n",
       "127897                  S          0.58          1.94          17.4   \n",
       "127898                  S          0.58          1.94          17.4   \n",
       "127899                  S          1.36          3.30          17.2   \n",
       "127900                  S          1.94          3.89          17.1   \n",
       "127901                  S          1.94          3.89          17.3   \n",
       "\n",
       "        WindDirMeasured  BaroMeasured  Month  delta  \n",
       "0                 236.0        1027.5      1  -2.09  \n",
       "1                 234.0        1027.6      1  -1.31  \n",
       "2                 261.0        1027.5      1  -2.09  \n",
       "3                 242.0        1027.4      1  -1.89  \n",
       "4                 244.0        1027.5      1  -1.11  \n",
       "...                 ...           ...    ...    ...  \n",
       "127897            225.0        1012.6     10  -7.42  \n",
       "127898            182.0        1012.7     10  -7.42  \n",
       "127899            157.0        1012.6     10  -6.64  \n",
       "127900            183.0        1012.4     10  -6.06  \n",
       "127901            183.0        1012.6     10  -6.06  \n",
       "\n",
       "[127902 rows x 16 columns]"
      ]
     },
     "execution_count": 69,
     "metadata": {},
     "output_type": "execute_result"
    }
   ],
   "source": [
    "# Calculate delta\n",
    "df['delta'] = df['WindMeasured'] - df['WindForecast']\n",
    "df"
   ]
  },
  {
   "cell_type": "code",
   "execution_count": 50,
   "metadata": {},
   "outputs": [],
   "source": [
    "# Assuming 'df' is your DataFrame with wind data\n",
    "# You can define your bins and labels for wind speed\n",
    "bins = [0, 2, 4, 6, 8, 10, 12, 14, 16, 18, 20, 22, 24, 26,28,30,np.inf]  # Customize bin edges as needed\n",
    "labels = ['0-2', '2-4', '4-6', '6-8', '8-10', '10-12', '12-14', '14-16', '16-18', '18-20', '20-22', '22-24','24-26', '26-28', '28-30', '30+']\n",
    "\n",
    "# Create a new column 'WindSpeedBin' with the binned wind speeds\n",
    "df['WindMeasuredBin'] = pd.cut(df['WindMeasured'], bins=bins, labels=labels)\n",
    "df['WindForecastBin'] = pd.cut(df['WindForecast'], bins=bins, labels=labels)\n",
    "\n",
    "# Define wind direction bins\n",
    "bins = [0, 45, 90, 135, 180, 225, 270, 315, 360]\n",
    "labels = ['N', 'NE', 'E', 'SE', 'S', 'SW', 'W', 'NW']\n",
    "\n",
    "# Bin wind directions and calculate mean wind speed for each bin\n",
    "df['WindDirMeasuredBin'] = pd.cut(df['WindDirMeasured'], bins=bins, labels=labels)\n",
    "#aggregated_data = df.groupby('WindDirBin')['WindSpeed'].count().reset_index()\n",
    "aggregated_data_measured = df.groupby(['WindDirMeasuredBin', 'WindMeasuredBin']).agg({'WindMeasured':'mean', 'delta':'mean','WindDirMeasured':'count'}).reset_index()\n",
    "aggregated_data_forecast = df.groupby(['WindDirBinForecast', 'WindForecastBin']).agg({'WindForecast':'mean', 'delta':'mean','WindDirForecast':'count'}).reset_index()"
   ]
  },
  {
   "cell_type": "code",
   "execution_count": 51,
   "metadata": {},
   "outputs": [],
   "source": [
    "aggregated_data_measured['FrequencyMeasured'] = np.round(aggregated_data_measured['WindDirMeasured']/aggregated_data_measured['WindDirMeasured'].sum(),5)*100\n",
    "aggregated_data_forecast['FrequencyForecast'] = np.round(aggregated_data_forecast['WindDirForecast']/aggregated_data_forecast['WindDirForecast'].sum(),5)*100"
   ]
  },
  {
   "cell_type": "code",
   "execution_count": 54,
   "metadata": {},
   "outputs": [
    {
     "data": {
      "application/vnd.plotly.v1+json": {
       "config": {
        "plotlyServerURL": "https://plot.ly"
       },
       "data": [
        {
         "hovertemplate": "FrequencyMeasured=%{r}<br>WindDirMeasuredBin=%{theta}<br>WindMeasured=%{marker.color}<extra></extra>",
         "legendgroup": "",
         "marker": {
          "color": [
           1.4266830065359477,
           3.255954446854664,
           4.955174069627851,
           6.945140562248997,
           9.095643656716419,
           11.02330897703549,
           13.013357664233576,
           15.123510815307819,
           17.029873646209385,
           18.931399491094147,
           21.02578488372093,
           23.007597402597405,
           25.007327586206895,
           26.959753086419756,
           28.946666666666665,
           31.82560975609756,
           1.472701612903226,
           3.2991848617176127,
           5.005560859188544,
           6.873725296442688,
           9.091806569343067,
           11.031598984771573,
           12.971610878661089,
           15.121492537313433,
           17.065648148148146,
           18.876327683615816,
           20.894649122807017,
           22.92112903225806,
           24.985833333333332,
           26.782962962962962,
           28.87857142857143,
           33.62769230769231,
           1.4414854111405837,
           3.2693207800941497,
           4.998788242351529,
           6.894860312243221,
           9.055800293685756,
           11.033309776207304,
           12.94359223300971,
           14.998509803921568,
           17.01283783783784,
           18.95020202020202,
           21.027241379310343,
           23.061960784313726,
           24.918709677419354,
           26.887894736842107,
           28.77,
           30.32,
           1.4799843750000001,
           3.201659619450317,
           4.980581766583895,
           6.992520768431983,
           9.073329245861435,
           11.00513698630137,
           13.014934991520635,
           15.0504,
           16.902135728542913,
           18.905913978494624,
           20.902906976744188,
           23.048814814814815,
           25.033809523809527,
           26.913818181818183,
           28.984444444444446,
           31.603157894736842,
           1.5288819007686931,
           3.1885114300903776,
           4.913479930191972,
           6.848988235294119,
           9.105579196217494,
           11.016772009029346,
           13.010730837789662,
           15.10217877094972,
           16.979948717948716,
           18.996347826086957,
           20.96716216216216,
           23.096785714285716,
           24.685384615384617,
           26.955238095238094,
           28.923000000000002,
           31.650000000000002,
           1.5658533653846154,
           3.2333059110298596,
           5.0012869722284945,
           6.9750580781415,
           9.05445652173913,
           11.001062747314867,
           12.99027128862095,
           15.067432795698926,
           16.944731958762887,
           18.92546827794562,
           20.92525581395349,
           22.98771186440678,
           24.953333333333333,
           26.96669724770642,
           28.988372093023255,
           32.417362637362636,
           1.5240955631399318,
           3.2495005675368898,
           5.0271279373368145,
           7.018132328308208,
           9.114439868204284,
           11.03791326749678,
           13.01926457399103,
           15.10323221180364,
           16.99618018018018,
           18.958970170454545,
           20.94187062937063,
           23.02564463705309,
           25.00815831987076,
           26.89380761523046,
           29.065625,
           36.300495867768596,
           1.4125806451612901,
           3.272969151670951,
           4.975548387096774,
           6.9551839178785295,
           9.157619863013698,
           11.121933229813664,
           13.105347928068806,
           15.167314814814816,
           16.99578369905956,
           18.964278557114227,
           20.93198879551821,
           22.997349665924276,
           24.960529801324505,
           27.017182130584192,
           29.090783410138247,
           34.45892177589852
          ],
          "coloraxis": "coloraxis",
          "pattern": {
           "shape": ""
          }
         },
         "name": "",
         "r": [
          0.483,
          0.728,
          0.657,
          0.9820000000000001,
          0.8460000000000001,
          0.756,
          0.649,
          0.47400000000000003,
          0.437,
          0.31,
          0.271,
          0.243,
          0.183,
          0.192,
          0.054,
          0.032,
          0.391,
          1.084,
          1.323,
          1.5970000000000002,
          0.865,
          0.622,
          0.377,
          0.211,
          0.16999999999999998,
          0.13999999999999999,
          0.09,
          0.049,
          0.019,
          0.021,
          0.006,
          0.01,
          0.5950000000000001,
          1.173,
          1.316,
          1.921,
          1.075,
          0.67,
          0.488,
          0.201,
          0.117,
          0.078,
          0.046,
          0.04,
          0.024,
          0.015,
          0.006,
          0.001,
          1.01,
          2.2399999999999998,
          2.225,
          3.04,
          2.574,
          1.8429999999999997,
          1.396,
          0.7889999999999999,
          0.395,
          0.22,
          0.136,
          0.107,
          0.066,
          0.043,
          0.013999999999999999,
          0.015,
          1.129,
          2.9690000000000003,
          2.261,
          2.012,
          1.001,
          0.699,
          0.443,
          0.28300000000000003,
          0.154,
          0.091,
          0.058,
          0.022000000000000002,
          0.021,
          0.017,
          0.008,
          0.005,
          0.657,
          2.59,
          3.495,
          5.231,
          3.993,
          2.792,
          2.094,
          1.174,
          0.765,
          0.522,
          0.33899999999999997,
          0.186,
          0.11800000000000001,
          0.086,
          0.068,
          0.07200000000000001,
          0.231,
          0.695,
          0.907,
          1.884,
          1.916,
          1.838,
          1.76,
          1.431,
          1.314,
          1.111,
          0.903,
          0.728,
          0.488,
          0.394,
          0.215,
          0.573,
          0.34199999999999997,
          0.614,
          0.612,
          0.923,
          0.922,
          1.016,
          1.009,
          0.938,
          1.0070000000000001,
          0.788,
          0.563,
          0.35400000000000004,
          0.23800000000000002,
          0.22999999999999998,
          0.17099999999999999,
          0.373
         ],
         "showlegend": false,
         "subplot": "polar",
         "theta": [
          "N",
          "N",
          "N",
          "N",
          "N",
          "N",
          "N",
          "N",
          "N",
          "N",
          "N",
          "N",
          "N",
          "N",
          "N",
          "N",
          "NE",
          "NE",
          "NE",
          "NE",
          "NE",
          "NE",
          "NE",
          "NE",
          "NE",
          "NE",
          "NE",
          "NE",
          "NE",
          "NE",
          "NE",
          "NE",
          "E",
          "E",
          "E",
          "E",
          "E",
          "E",
          "E",
          "E",
          "E",
          "E",
          "E",
          "E",
          "E",
          "E",
          "E",
          "E",
          "SE",
          "SE",
          "SE",
          "SE",
          "SE",
          "SE",
          "SE",
          "SE",
          "SE",
          "SE",
          "SE",
          "SE",
          "SE",
          "SE",
          "SE",
          "SE",
          "S",
          "S",
          "S",
          "S",
          "S",
          "S",
          "S",
          "S",
          "S",
          "S",
          "S",
          "S",
          "S",
          "S",
          "S",
          "S",
          "SW",
          "SW",
          "SW",
          "SW",
          "SW",
          "SW",
          "SW",
          "SW",
          "SW",
          "SW",
          "SW",
          "SW",
          "SW",
          "SW",
          "SW",
          "SW",
          "W",
          "W",
          "W",
          "W",
          "W",
          "W",
          "W",
          "W",
          "W",
          "W",
          "W",
          "W",
          "W",
          "W",
          "W",
          "W",
          "NW",
          "NW",
          "NW",
          "NW",
          "NW",
          "NW",
          "NW",
          "NW",
          "NW",
          "NW",
          "NW",
          "NW",
          "NW",
          "NW",
          "NW",
          "NW"
         ],
         "type": "barpolar"
        }
       ],
       "layout": {
        "barmode": "relative",
        "coloraxis": {
         "colorbar": {
          "title": {
           "text": "WindMeasured"
          }
         },
         "colorscale": [
          [
           0,
           "#0d0887"
          ],
          [
           0.1111111111111111,
           "#46039f"
          ],
          [
           0.2222222222222222,
           "#7201a8"
          ],
          [
           0.3333333333333333,
           "#9c179e"
          ],
          [
           0.4444444444444444,
           "#bd3786"
          ],
          [
           0.5555555555555556,
           "#d8576b"
          ],
          [
           0.6666666666666666,
           "#ed7953"
          ],
          [
           0.7777777777777778,
           "#fb9f3a"
          ],
          [
           0.8888888888888888,
           "#fdca26"
          ],
          [
           1,
           "#f0f921"
          ]
         ]
        },
        "height": 800,
        "legend": {
         "tracegroupgap": 0
        },
        "margin": {
         "t": 60
        },
        "polar": {
         "angularaxis": {
          "direction": "clockwise",
          "rotation": 90
         },
         "domain": {
          "x": [
           0,
           1
          ],
          "y": [
           0,
           1
          ]
         }
        },
        "template": {
         "data": {
          "bar": [
           {
            "error_x": {
             "color": "#f2f5fa"
            },
            "error_y": {
             "color": "#f2f5fa"
            },
            "marker": {
             "line": {
              "color": "rgb(17,17,17)",
              "width": 0.5
             },
             "pattern": {
              "fillmode": "overlay",
              "size": 10,
              "solidity": 0.2
             }
            },
            "type": "bar"
           }
          ],
          "barpolar": [
           {
            "marker": {
             "line": {
              "color": "rgb(17,17,17)",
              "width": 0.5
             },
             "pattern": {
              "fillmode": "overlay",
              "size": 10,
              "solidity": 0.2
             }
            },
            "type": "barpolar"
           }
          ],
          "carpet": [
           {
            "aaxis": {
             "endlinecolor": "#A2B1C6",
             "gridcolor": "#506784",
             "linecolor": "#506784",
             "minorgridcolor": "#506784",
             "startlinecolor": "#A2B1C6"
            },
            "baxis": {
             "endlinecolor": "#A2B1C6",
             "gridcolor": "#506784",
             "linecolor": "#506784",
             "minorgridcolor": "#506784",
             "startlinecolor": "#A2B1C6"
            },
            "type": "carpet"
           }
          ],
          "choropleth": [
           {
            "colorbar": {
             "outlinewidth": 0,
             "ticks": ""
            },
            "type": "choropleth"
           }
          ],
          "contour": [
           {
            "colorbar": {
             "outlinewidth": 0,
             "ticks": ""
            },
            "colorscale": [
             [
              0,
              "#0d0887"
             ],
             [
              0.1111111111111111,
              "#46039f"
             ],
             [
              0.2222222222222222,
              "#7201a8"
             ],
             [
              0.3333333333333333,
              "#9c179e"
             ],
             [
              0.4444444444444444,
              "#bd3786"
             ],
             [
              0.5555555555555556,
              "#d8576b"
             ],
             [
              0.6666666666666666,
              "#ed7953"
             ],
             [
              0.7777777777777778,
              "#fb9f3a"
             ],
             [
              0.8888888888888888,
              "#fdca26"
             ],
             [
              1,
              "#f0f921"
             ]
            ],
            "type": "contour"
           }
          ],
          "contourcarpet": [
           {
            "colorbar": {
             "outlinewidth": 0,
             "ticks": ""
            },
            "type": "contourcarpet"
           }
          ],
          "heatmap": [
           {
            "colorbar": {
             "outlinewidth": 0,
             "ticks": ""
            },
            "colorscale": [
             [
              0,
              "#0d0887"
             ],
             [
              0.1111111111111111,
              "#46039f"
             ],
             [
              0.2222222222222222,
              "#7201a8"
             ],
             [
              0.3333333333333333,
              "#9c179e"
             ],
             [
              0.4444444444444444,
              "#bd3786"
             ],
             [
              0.5555555555555556,
              "#d8576b"
             ],
             [
              0.6666666666666666,
              "#ed7953"
             ],
             [
              0.7777777777777778,
              "#fb9f3a"
             ],
             [
              0.8888888888888888,
              "#fdca26"
             ],
             [
              1,
              "#f0f921"
             ]
            ],
            "type": "heatmap"
           }
          ],
          "heatmapgl": [
           {
            "colorbar": {
             "outlinewidth": 0,
             "ticks": ""
            },
            "colorscale": [
             [
              0,
              "#0d0887"
             ],
             [
              0.1111111111111111,
              "#46039f"
             ],
             [
              0.2222222222222222,
              "#7201a8"
             ],
             [
              0.3333333333333333,
              "#9c179e"
             ],
             [
              0.4444444444444444,
              "#bd3786"
             ],
             [
              0.5555555555555556,
              "#d8576b"
             ],
             [
              0.6666666666666666,
              "#ed7953"
             ],
             [
              0.7777777777777778,
              "#fb9f3a"
             ],
             [
              0.8888888888888888,
              "#fdca26"
             ],
             [
              1,
              "#f0f921"
             ]
            ],
            "type": "heatmapgl"
           }
          ],
          "histogram": [
           {
            "marker": {
             "pattern": {
              "fillmode": "overlay",
              "size": 10,
              "solidity": 0.2
             }
            },
            "type": "histogram"
           }
          ],
          "histogram2d": [
           {
            "colorbar": {
             "outlinewidth": 0,
             "ticks": ""
            },
            "colorscale": [
             [
              0,
              "#0d0887"
             ],
             [
              0.1111111111111111,
              "#46039f"
             ],
             [
              0.2222222222222222,
              "#7201a8"
             ],
             [
              0.3333333333333333,
              "#9c179e"
             ],
             [
              0.4444444444444444,
              "#bd3786"
             ],
             [
              0.5555555555555556,
              "#d8576b"
             ],
             [
              0.6666666666666666,
              "#ed7953"
             ],
             [
              0.7777777777777778,
              "#fb9f3a"
             ],
             [
              0.8888888888888888,
              "#fdca26"
             ],
             [
              1,
              "#f0f921"
             ]
            ],
            "type": "histogram2d"
           }
          ],
          "histogram2dcontour": [
           {
            "colorbar": {
             "outlinewidth": 0,
             "ticks": ""
            },
            "colorscale": [
             [
              0,
              "#0d0887"
             ],
             [
              0.1111111111111111,
              "#46039f"
             ],
             [
              0.2222222222222222,
              "#7201a8"
             ],
             [
              0.3333333333333333,
              "#9c179e"
             ],
             [
              0.4444444444444444,
              "#bd3786"
             ],
             [
              0.5555555555555556,
              "#d8576b"
             ],
             [
              0.6666666666666666,
              "#ed7953"
             ],
             [
              0.7777777777777778,
              "#fb9f3a"
             ],
             [
              0.8888888888888888,
              "#fdca26"
             ],
             [
              1,
              "#f0f921"
             ]
            ],
            "type": "histogram2dcontour"
           }
          ],
          "mesh3d": [
           {
            "colorbar": {
             "outlinewidth": 0,
             "ticks": ""
            },
            "type": "mesh3d"
           }
          ],
          "parcoords": [
           {
            "line": {
             "colorbar": {
              "outlinewidth": 0,
              "ticks": ""
             }
            },
            "type": "parcoords"
           }
          ],
          "pie": [
           {
            "automargin": true,
            "type": "pie"
           }
          ],
          "scatter": [
           {
            "marker": {
             "line": {
              "color": "#283442"
             }
            },
            "type": "scatter"
           }
          ],
          "scatter3d": [
           {
            "line": {
             "colorbar": {
              "outlinewidth": 0,
              "ticks": ""
             }
            },
            "marker": {
             "colorbar": {
              "outlinewidth": 0,
              "ticks": ""
             }
            },
            "type": "scatter3d"
           }
          ],
          "scattercarpet": [
           {
            "marker": {
             "colorbar": {
              "outlinewidth": 0,
              "ticks": ""
             }
            },
            "type": "scattercarpet"
           }
          ],
          "scattergeo": [
           {
            "marker": {
             "colorbar": {
              "outlinewidth": 0,
              "ticks": ""
             }
            },
            "type": "scattergeo"
           }
          ],
          "scattergl": [
           {
            "marker": {
             "line": {
              "color": "#283442"
             }
            },
            "type": "scattergl"
           }
          ],
          "scattermapbox": [
           {
            "marker": {
             "colorbar": {
              "outlinewidth": 0,
              "ticks": ""
             }
            },
            "type": "scattermapbox"
           }
          ],
          "scatterpolar": [
           {
            "marker": {
             "colorbar": {
              "outlinewidth": 0,
              "ticks": ""
             }
            },
            "type": "scatterpolar"
           }
          ],
          "scatterpolargl": [
           {
            "marker": {
             "colorbar": {
              "outlinewidth": 0,
              "ticks": ""
             }
            },
            "type": "scatterpolargl"
           }
          ],
          "scatterternary": [
           {
            "marker": {
             "colorbar": {
              "outlinewidth": 0,
              "ticks": ""
             }
            },
            "type": "scatterternary"
           }
          ],
          "surface": [
           {
            "colorbar": {
             "outlinewidth": 0,
             "ticks": ""
            },
            "colorscale": [
             [
              0,
              "#0d0887"
             ],
             [
              0.1111111111111111,
              "#46039f"
             ],
             [
              0.2222222222222222,
              "#7201a8"
             ],
             [
              0.3333333333333333,
              "#9c179e"
             ],
             [
              0.4444444444444444,
              "#bd3786"
             ],
             [
              0.5555555555555556,
              "#d8576b"
             ],
             [
              0.6666666666666666,
              "#ed7953"
             ],
             [
              0.7777777777777778,
              "#fb9f3a"
             ],
             [
              0.8888888888888888,
              "#fdca26"
             ],
             [
              1,
              "#f0f921"
             ]
            ],
            "type": "surface"
           }
          ],
          "table": [
           {
            "cells": {
             "fill": {
              "color": "#506784"
             },
             "line": {
              "color": "rgb(17,17,17)"
             }
            },
            "header": {
             "fill": {
              "color": "#2a3f5f"
             },
             "line": {
              "color": "rgb(17,17,17)"
             }
            },
            "type": "table"
           }
          ]
         },
         "layout": {
          "annotationdefaults": {
           "arrowcolor": "#f2f5fa",
           "arrowhead": 0,
           "arrowwidth": 1
          },
          "autotypenumbers": "strict",
          "coloraxis": {
           "colorbar": {
            "outlinewidth": 0,
            "ticks": ""
           }
          },
          "colorscale": {
           "diverging": [
            [
             0,
             "#8e0152"
            ],
            [
             0.1,
             "#c51b7d"
            ],
            [
             0.2,
             "#de77ae"
            ],
            [
             0.3,
             "#f1b6da"
            ],
            [
             0.4,
             "#fde0ef"
            ],
            [
             0.5,
             "#f7f7f7"
            ],
            [
             0.6,
             "#e6f5d0"
            ],
            [
             0.7,
             "#b8e186"
            ],
            [
             0.8,
             "#7fbc41"
            ],
            [
             0.9,
             "#4d9221"
            ],
            [
             1,
             "#276419"
            ]
           ],
           "sequential": [
            [
             0,
             "#0d0887"
            ],
            [
             0.1111111111111111,
             "#46039f"
            ],
            [
             0.2222222222222222,
             "#7201a8"
            ],
            [
             0.3333333333333333,
             "#9c179e"
            ],
            [
             0.4444444444444444,
             "#bd3786"
            ],
            [
             0.5555555555555556,
             "#d8576b"
            ],
            [
             0.6666666666666666,
             "#ed7953"
            ],
            [
             0.7777777777777778,
             "#fb9f3a"
            ],
            [
             0.8888888888888888,
             "#fdca26"
            ],
            [
             1,
             "#f0f921"
            ]
           ],
           "sequentialminus": [
            [
             0,
             "#0d0887"
            ],
            [
             0.1111111111111111,
             "#46039f"
            ],
            [
             0.2222222222222222,
             "#7201a8"
            ],
            [
             0.3333333333333333,
             "#9c179e"
            ],
            [
             0.4444444444444444,
             "#bd3786"
            ],
            [
             0.5555555555555556,
             "#d8576b"
            ],
            [
             0.6666666666666666,
             "#ed7953"
            ],
            [
             0.7777777777777778,
             "#fb9f3a"
            ],
            [
             0.8888888888888888,
             "#fdca26"
            ],
            [
             1,
             "#f0f921"
            ]
           ]
          },
          "colorway": [
           "#636efa",
           "#EF553B",
           "#00cc96",
           "#ab63fa",
           "#FFA15A",
           "#19d3f3",
           "#FF6692",
           "#B6E880",
           "#FF97FF",
           "#FECB52"
          ],
          "font": {
           "color": "#f2f5fa"
          },
          "geo": {
           "bgcolor": "rgb(17,17,17)",
           "lakecolor": "rgb(17,17,17)",
           "landcolor": "rgb(17,17,17)",
           "showlakes": true,
           "showland": true,
           "subunitcolor": "#506784"
          },
          "hoverlabel": {
           "align": "left"
          },
          "hovermode": "closest",
          "mapbox": {
           "style": "dark"
          },
          "paper_bgcolor": "rgb(17,17,17)",
          "plot_bgcolor": "rgb(17,17,17)",
          "polar": {
           "angularaxis": {
            "gridcolor": "#506784",
            "linecolor": "#506784",
            "ticks": ""
           },
           "bgcolor": "rgb(17,17,17)",
           "radialaxis": {
            "gridcolor": "#506784",
            "linecolor": "#506784",
            "ticks": ""
           }
          },
          "scene": {
           "xaxis": {
            "backgroundcolor": "rgb(17,17,17)",
            "gridcolor": "#506784",
            "gridwidth": 2,
            "linecolor": "#506784",
            "showbackground": true,
            "ticks": "",
            "zerolinecolor": "#C8D4E3"
           },
           "yaxis": {
            "backgroundcolor": "rgb(17,17,17)",
            "gridcolor": "#506784",
            "gridwidth": 2,
            "linecolor": "#506784",
            "showbackground": true,
            "ticks": "",
            "zerolinecolor": "#C8D4E3"
           },
           "zaxis": {
            "backgroundcolor": "rgb(17,17,17)",
            "gridcolor": "#506784",
            "gridwidth": 2,
            "linecolor": "#506784",
            "showbackground": true,
            "ticks": "",
            "zerolinecolor": "#C8D4E3"
           }
          },
          "shapedefaults": {
           "line": {
            "color": "#f2f5fa"
           }
          },
          "sliderdefaults": {
           "bgcolor": "#C8D4E3",
           "bordercolor": "rgb(17,17,17)",
           "borderwidth": 1,
           "tickwidth": 0
          },
          "ternary": {
           "aaxis": {
            "gridcolor": "#506784",
            "linecolor": "#506784",
            "ticks": ""
           },
           "baxis": {
            "gridcolor": "#506784",
            "linecolor": "#506784",
            "ticks": ""
           },
           "bgcolor": "rgb(17,17,17)",
           "caxis": {
            "gridcolor": "#506784",
            "linecolor": "#506784",
            "ticks": ""
           }
          },
          "title": {
           "x": 0.05
          },
          "updatemenudefaults": {
           "bgcolor": "#506784",
           "borderwidth": 0
          },
          "xaxis": {
           "automargin": true,
           "gridcolor": "#283442",
           "linecolor": "#506784",
           "ticks": "",
           "title": {
            "standoff": 15
           },
           "zerolinecolor": "#283442",
           "zerolinewidth": 2
          },
          "yaxis": {
           "automargin": true,
           "gridcolor": "#283442",
           "linecolor": "#506784",
           "ticks": "",
           "title": {
            "standoff": 15
           },
           "zerolinecolor": "#283442",
           "zerolinewidth": 2
          }
         }
        },
        "width": 1600
       }
      }
     },
     "metadata": {},
     "output_type": "display_data"
    }
   ],
   "source": [
    "# Create a wind rose plot\n",
    "fig = px.bar_polar(aggregated_data_measured, r='FrequencyMeasured', theta='WindDirMeasuredBin', color='WindMeasured',\n",
    "                   template='plotly_dark', color_discrete_sequence=px.colors.sequential.Plasma_r)\n",
    "# Set the figure size\n",
    "fig.update_layout(width=1600, height=800)\n",
    "fig.show()"
   ]
  },
  {
   "cell_type": "code",
   "execution_count": 55,
   "metadata": {},
   "outputs": [
    {
     "data": {
      "application/vnd.plotly.v1+json": {
       "config": {
        "plotlyServerURL": "https://plot.ly"
       },
       "data": [
        {
         "hovertemplate": "FrequencyForecast=%{r}<br>WindDirBinForecast=%{theta}<br>WindForecast=%{marker.color}<extra></extra>",
         "legendgroup": "",
         "marker": {
          "color": [
           1.922077922077922,
           3.6041666666666665,
           5.548207663782447,
           7.45375854214123,
           9.475210970464135,
           11.345724907063197,
           13.347826086956522,
           15.521739130434783,
           17.431137724550897,
           19.5,
           21.166666666666668,
           23.5,
           26,
           null,
           null,
           null,
           1.7642679900744418,
           3.63718820861678,
           5.5636363636363635,
           7.508090614886731,
           9.411575562700964,
           11.425448868071818,
           13.542079207920793,
           15.471947194719473,
           17.457350272232304,
           19.366666666666667,
           21.125,
           23,
           null,
           null,
           null,
           null,
           1.7993197278911566,
           3.6236559139784945,
           5.547290116896918,
           7.425231761386538,
           9.418032786885245,
           11.395061728395062,
           13.538585209003216,
           15.4375,
           17.4,
           19.25,
           21.5,
           23.6,
           25.5,
           null,
           null,
           null,
           1.9130434782608696,
           3.5748571428571427,
           5.5458304617505165,
           7.483378746594005,
           9.416873449131513,
           11.507042253521126,
           13.462264150943396,
           15.337837837837839,
           17.488888888888887,
           19.594240837696336,
           21.48148148148148,
           23.25,
           25.470588235294116,
           27.666666666666668,
           30,
           null,
           1.9259259259259258,
           3.5474567383324596,
           5.499830680663732,
           7.505910165484633,
           9.44212358572672,
           11.489822433954092,
           13.423728813559322,
           15.382022471910112,
           17.45328031809145,
           19.317365269461078,
           21.571428571428573,
           23,
           25.333333333333332,
           28,
           null,
           null,
           1.8181818181818181,
           3.5942622950819674,
           5.555660824253908,
           7.507444907683145,
           9.456961077844312,
           11.454344624447717,
           13.377682403433477,
           15.479903536977492,
           17.325,
           19.6,
           21.2,
           23,
           25,
           null,
           null,
           null,
           1.9230769230769231,
           3.6530278232405893,
           5.531786074672048,
           7.488005186946185,
           9.55228305989326,
           11.427326732673267,
           13.40985254691689,
           15.465450310559007,
           17.45646916565901,
           19.410876132930515,
           21.425,
           23.484057971014494,
           25.363636363636363,
           27.75,
           29.333333333333332,
           32.5,
           1.9565217391304348,
           3.644570707070707,
           5.518601190476191,
           7.507998792635074,
           9.512339242266249,
           11.476744186046512,
           13.453798767967145,
           15.417112299465241,
           17.417391304347827,
           19.50793650793651,
           21.576923076923077,
           23.384615384615383,
           25.444444444444443,
           27.333333333333332,
           29.77777777777778,
           31.547169811320753
          ],
          "coloraxis": "coloraxis",
          "pattern": {
           "shape": ""
          }
         },
         "name": "",
         "r": [
          0.244,
          0.9119999999999999,
          1.281,
          1.738,
          1.502,
          0.852,
          0.437,
          0.219,
          0.132,
          0.095,
          0.056999999999999995,
          0.019,
          0.01,
          0,
          0,
          0,
          0.319,
          0.699,
          1.394,
          1.468,
          1.478,
          1.015,
          0.64,
          0.72,
          0.436,
          0.28500000000000003,
          0.152,
          0.01,
          0,
          0,
          0,
          0,
          0.233,
          0.8840000000000001,
          1.49,
          1.965,
          1.159,
          0.77,
          0.49300000000000005,
          0.45599999999999996,
          0.19,
          0.076,
          0.038,
          0.048,
          0.038,
          0,
          0,
          0,
          0.219,
          0.6930000000000001,
          1.149,
          1.4529999999999998,
          1.5959999999999999,
          1.518,
          1.0070000000000001,
          0.703,
          0.428,
          0.303,
          0.257,
          0.076,
          0.04,
          0.029,
          0.01,
          0,
          0.257,
          1.51,
          2.339,
          2.01,
          1.82,
          1.8290000000000002,
          1.121,
          0.8460000000000001,
          0.398,
          0.265,
          0.067,
          0.019,
          0.029,
          0.01,
          0,
          0,
          0.209,
          0.773,
          1.672,
          2.659,
          2.116,
          2.1510000000000002,
          1.476,
          0.985,
          0.38,
          0.23800000000000002,
          0.048,
          0.01,
          0.019,
          0,
          0,
          0,
          0.247,
          1.452,
          3.1390000000000002,
          3.6639999999999997,
          4.007000000000001,
          3.9989999999999997,
          2.363,
          2.04,
          1.31,
          0.786,
          0.38,
          0.27299999999999996,
          0.105,
          0.076,
          0.029,
          0.019,
          0.219,
          1.254,
          2.129,
          2.624,
          2.278,
          2.179,
          2.314,
          1.7770000000000001,
          1.093,
          0.599,
          0.494,
          0.124,
          0.086,
          0.086,
          0.086,
          0.084
         ],
         "showlegend": false,
         "subplot": "polar",
         "theta": [
          "E",
          "E",
          "E",
          "E",
          "E",
          "E",
          "E",
          "E",
          "E",
          "E",
          "E",
          "E",
          "E",
          "E",
          "E",
          "E",
          "N",
          "N",
          "N",
          "N",
          "N",
          "N",
          "N",
          "N",
          "N",
          "N",
          "N",
          "N",
          "N",
          "N",
          "N",
          "N",
          "NE",
          "NE",
          "NE",
          "NE",
          "NE",
          "NE",
          "NE",
          "NE",
          "NE",
          "NE",
          "NE",
          "NE",
          "NE",
          "NE",
          "NE",
          "NE",
          "NW",
          "NW",
          "NW",
          "NW",
          "NW",
          "NW",
          "NW",
          "NW",
          "NW",
          "NW",
          "NW",
          "NW",
          "NW",
          "NW",
          "NW",
          "NW",
          "S",
          "S",
          "S",
          "S",
          "S",
          "S",
          "S",
          "S",
          "S",
          "S",
          "S",
          "S",
          "S",
          "S",
          "S",
          "S",
          "SE",
          "SE",
          "SE",
          "SE",
          "SE",
          "SE",
          "SE",
          "SE",
          "SE",
          "SE",
          "SE",
          "SE",
          "SE",
          "SE",
          "SE",
          "SE",
          "SW",
          "SW",
          "SW",
          "SW",
          "SW",
          "SW",
          "SW",
          "SW",
          "SW",
          "SW",
          "SW",
          "SW",
          "SW",
          "SW",
          "SW",
          "SW",
          "W",
          "W",
          "W",
          "W",
          "W",
          "W",
          "W",
          "W",
          "W",
          "W",
          "W",
          "W",
          "W",
          "W",
          "W",
          "W"
         ],
         "type": "barpolar"
        }
       ],
       "layout": {
        "barmode": "relative",
        "coloraxis": {
         "colorbar": {
          "title": {
           "text": "WindForecast"
          }
         },
         "colorscale": [
          [
           0,
           "#0d0887"
          ],
          [
           0.1111111111111111,
           "#46039f"
          ],
          [
           0.2222222222222222,
           "#7201a8"
          ],
          [
           0.3333333333333333,
           "#9c179e"
          ],
          [
           0.4444444444444444,
           "#bd3786"
          ],
          [
           0.5555555555555556,
           "#d8576b"
          ],
          [
           0.6666666666666666,
           "#ed7953"
          ],
          [
           0.7777777777777778,
           "#fb9f3a"
          ],
          [
           0.8888888888888888,
           "#fdca26"
          ],
          [
           1,
           "#f0f921"
          ]
         ]
        },
        "height": 800,
        "legend": {
         "tracegroupgap": 0
        },
        "margin": {
         "t": 60
        },
        "polar": {
         "angularaxis": {
          "direction": "clockwise",
          "rotation": 90
         },
         "domain": {
          "x": [
           0,
           1
          ],
          "y": [
           0,
           1
          ]
         }
        },
        "template": {
         "data": {
          "bar": [
           {
            "error_x": {
             "color": "#f2f5fa"
            },
            "error_y": {
             "color": "#f2f5fa"
            },
            "marker": {
             "line": {
              "color": "rgb(17,17,17)",
              "width": 0.5
             },
             "pattern": {
              "fillmode": "overlay",
              "size": 10,
              "solidity": 0.2
             }
            },
            "type": "bar"
           }
          ],
          "barpolar": [
           {
            "marker": {
             "line": {
              "color": "rgb(17,17,17)",
              "width": 0.5
             },
             "pattern": {
              "fillmode": "overlay",
              "size": 10,
              "solidity": 0.2
             }
            },
            "type": "barpolar"
           }
          ],
          "carpet": [
           {
            "aaxis": {
             "endlinecolor": "#A2B1C6",
             "gridcolor": "#506784",
             "linecolor": "#506784",
             "minorgridcolor": "#506784",
             "startlinecolor": "#A2B1C6"
            },
            "baxis": {
             "endlinecolor": "#A2B1C6",
             "gridcolor": "#506784",
             "linecolor": "#506784",
             "minorgridcolor": "#506784",
             "startlinecolor": "#A2B1C6"
            },
            "type": "carpet"
           }
          ],
          "choropleth": [
           {
            "colorbar": {
             "outlinewidth": 0,
             "ticks": ""
            },
            "type": "choropleth"
           }
          ],
          "contour": [
           {
            "colorbar": {
             "outlinewidth": 0,
             "ticks": ""
            },
            "colorscale": [
             [
              0,
              "#0d0887"
             ],
             [
              0.1111111111111111,
              "#46039f"
             ],
             [
              0.2222222222222222,
              "#7201a8"
             ],
             [
              0.3333333333333333,
              "#9c179e"
             ],
             [
              0.4444444444444444,
              "#bd3786"
             ],
             [
              0.5555555555555556,
              "#d8576b"
             ],
             [
              0.6666666666666666,
              "#ed7953"
             ],
             [
              0.7777777777777778,
              "#fb9f3a"
             ],
             [
              0.8888888888888888,
              "#fdca26"
             ],
             [
              1,
              "#f0f921"
             ]
            ],
            "type": "contour"
           }
          ],
          "contourcarpet": [
           {
            "colorbar": {
             "outlinewidth": 0,
             "ticks": ""
            },
            "type": "contourcarpet"
           }
          ],
          "heatmap": [
           {
            "colorbar": {
             "outlinewidth": 0,
             "ticks": ""
            },
            "colorscale": [
             [
              0,
              "#0d0887"
             ],
             [
              0.1111111111111111,
              "#46039f"
             ],
             [
              0.2222222222222222,
              "#7201a8"
             ],
             [
              0.3333333333333333,
              "#9c179e"
             ],
             [
              0.4444444444444444,
              "#bd3786"
             ],
             [
              0.5555555555555556,
              "#d8576b"
             ],
             [
              0.6666666666666666,
              "#ed7953"
             ],
             [
              0.7777777777777778,
              "#fb9f3a"
             ],
             [
              0.8888888888888888,
              "#fdca26"
             ],
             [
              1,
              "#f0f921"
             ]
            ],
            "type": "heatmap"
           }
          ],
          "heatmapgl": [
           {
            "colorbar": {
             "outlinewidth": 0,
             "ticks": ""
            },
            "colorscale": [
             [
              0,
              "#0d0887"
             ],
             [
              0.1111111111111111,
              "#46039f"
             ],
             [
              0.2222222222222222,
              "#7201a8"
             ],
             [
              0.3333333333333333,
              "#9c179e"
             ],
             [
              0.4444444444444444,
              "#bd3786"
             ],
             [
              0.5555555555555556,
              "#d8576b"
             ],
             [
              0.6666666666666666,
              "#ed7953"
             ],
             [
              0.7777777777777778,
              "#fb9f3a"
             ],
             [
              0.8888888888888888,
              "#fdca26"
             ],
             [
              1,
              "#f0f921"
             ]
            ],
            "type": "heatmapgl"
           }
          ],
          "histogram": [
           {
            "marker": {
             "pattern": {
              "fillmode": "overlay",
              "size": 10,
              "solidity": 0.2
             }
            },
            "type": "histogram"
           }
          ],
          "histogram2d": [
           {
            "colorbar": {
             "outlinewidth": 0,
             "ticks": ""
            },
            "colorscale": [
             [
              0,
              "#0d0887"
             ],
             [
              0.1111111111111111,
              "#46039f"
             ],
             [
              0.2222222222222222,
              "#7201a8"
             ],
             [
              0.3333333333333333,
              "#9c179e"
             ],
             [
              0.4444444444444444,
              "#bd3786"
             ],
             [
              0.5555555555555556,
              "#d8576b"
             ],
             [
              0.6666666666666666,
              "#ed7953"
             ],
             [
              0.7777777777777778,
              "#fb9f3a"
             ],
             [
              0.8888888888888888,
              "#fdca26"
             ],
             [
              1,
              "#f0f921"
             ]
            ],
            "type": "histogram2d"
           }
          ],
          "histogram2dcontour": [
           {
            "colorbar": {
             "outlinewidth": 0,
             "ticks": ""
            },
            "colorscale": [
             [
              0,
              "#0d0887"
             ],
             [
              0.1111111111111111,
              "#46039f"
             ],
             [
              0.2222222222222222,
              "#7201a8"
             ],
             [
              0.3333333333333333,
              "#9c179e"
             ],
             [
              0.4444444444444444,
              "#bd3786"
             ],
             [
              0.5555555555555556,
              "#d8576b"
             ],
             [
              0.6666666666666666,
              "#ed7953"
             ],
             [
              0.7777777777777778,
              "#fb9f3a"
             ],
             [
              0.8888888888888888,
              "#fdca26"
             ],
             [
              1,
              "#f0f921"
             ]
            ],
            "type": "histogram2dcontour"
           }
          ],
          "mesh3d": [
           {
            "colorbar": {
             "outlinewidth": 0,
             "ticks": ""
            },
            "type": "mesh3d"
           }
          ],
          "parcoords": [
           {
            "line": {
             "colorbar": {
              "outlinewidth": 0,
              "ticks": ""
             }
            },
            "type": "parcoords"
           }
          ],
          "pie": [
           {
            "automargin": true,
            "type": "pie"
           }
          ],
          "scatter": [
           {
            "marker": {
             "line": {
              "color": "#283442"
             }
            },
            "type": "scatter"
           }
          ],
          "scatter3d": [
           {
            "line": {
             "colorbar": {
              "outlinewidth": 0,
              "ticks": ""
             }
            },
            "marker": {
             "colorbar": {
              "outlinewidth": 0,
              "ticks": ""
             }
            },
            "type": "scatter3d"
           }
          ],
          "scattercarpet": [
           {
            "marker": {
             "colorbar": {
              "outlinewidth": 0,
              "ticks": ""
             }
            },
            "type": "scattercarpet"
           }
          ],
          "scattergeo": [
           {
            "marker": {
             "colorbar": {
              "outlinewidth": 0,
              "ticks": ""
             }
            },
            "type": "scattergeo"
           }
          ],
          "scattergl": [
           {
            "marker": {
             "line": {
              "color": "#283442"
             }
            },
            "type": "scattergl"
           }
          ],
          "scattermapbox": [
           {
            "marker": {
             "colorbar": {
              "outlinewidth": 0,
              "ticks": ""
             }
            },
            "type": "scattermapbox"
           }
          ],
          "scatterpolar": [
           {
            "marker": {
             "colorbar": {
              "outlinewidth": 0,
              "ticks": ""
             }
            },
            "type": "scatterpolar"
           }
          ],
          "scatterpolargl": [
           {
            "marker": {
             "colorbar": {
              "outlinewidth": 0,
              "ticks": ""
             }
            },
            "type": "scatterpolargl"
           }
          ],
          "scatterternary": [
           {
            "marker": {
             "colorbar": {
              "outlinewidth": 0,
              "ticks": ""
             }
            },
            "type": "scatterternary"
           }
          ],
          "surface": [
           {
            "colorbar": {
             "outlinewidth": 0,
             "ticks": ""
            },
            "colorscale": [
             [
              0,
              "#0d0887"
             ],
             [
              0.1111111111111111,
              "#46039f"
             ],
             [
              0.2222222222222222,
              "#7201a8"
             ],
             [
              0.3333333333333333,
              "#9c179e"
             ],
             [
              0.4444444444444444,
              "#bd3786"
             ],
             [
              0.5555555555555556,
              "#d8576b"
             ],
             [
              0.6666666666666666,
              "#ed7953"
             ],
             [
              0.7777777777777778,
              "#fb9f3a"
             ],
             [
              0.8888888888888888,
              "#fdca26"
             ],
             [
              1,
              "#f0f921"
             ]
            ],
            "type": "surface"
           }
          ],
          "table": [
           {
            "cells": {
             "fill": {
              "color": "#506784"
             },
             "line": {
              "color": "rgb(17,17,17)"
             }
            },
            "header": {
             "fill": {
              "color": "#2a3f5f"
             },
             "line": {
              "color": "rgb(17,17,17)"
             }
            },
            "type": "table"
           }
          ]
         },
         "layout": {
          "annotationdefaults": {
           "arrowcolor": "#f2f5fa",
           "arrowhead": 0,
           "arrowwidth": 1
          },
          "autotypenumbers": "strict",
          "coloraxis": {
           "colorbar": {
            "outlinewidth": 0,
            "ticks": ""
           }
          },
          "colorscale": {
           "diverging": [
            [
             0,
             "#8e0152"
            ],
            [
             0.1,
             "#c51b7d"
            ],
            [
             0.2,
             "#de77ae"
            ],
            [
             0.3,
             "#f1b6da"
            ],
            [
             0.4,
             "#fde0ef"
            ],
            [
             0.5,
             "#f7f7f7"
            ],
            [
             0.6,
             "#e6f5d0"
            ],
            [
             0.7,
             "#b8e186"
            ],
            [
             0.8,
             "#7fbc41"
            ],
            [
             0.9,
             "#4d9221"
            ],
            [
             1,
             "#276419"
            ]
           ],
           "sequential": [
            [
             0,
             "#0d0887"
            ],
            [
             0.1111111111111111,
             "#46039f"
            ],
            [
             0.2222222222222222,
             "#7201a8"
            ],
            [
             0.3333333333333333,
             "#9c179e"
            ],
            [
             0.4444444444444444,
             "#bd3786"
            ],
            [
             0.5555555555555556,
             "#d8576b"
            ],
            [
             0.6666666666666666,
             "#ed7953"
            ],
            [
             0.7777777777777778,
             "#fb9f3a"
            ],
            [
             0.8888888888888888,
             "#fdca26"
            ],
            [
             1,
             "#f0f921"
            ]
           ],
           "sequentialminus": [
            [
             0,
             "#0d0887"
            ],
            [
             0.1111111111111111,
             "#46039f"
            ],
            [
             0.2222222222222222,
             "#7201a8"
            ],
            [
             0.3333333333333333,
             "#9c179e"
            ],
            [
             0.4444444444444444,
             "#bd3786"
            ],
            [
             0.5555555555555556,
             "#d8576b"
            ],
            [
             0.6666666666666666,
             "#ed7953"
            ],
            [
             0.7777777777777778,
             "#fb9f3a"
            ],
            [
             0.8888888888888888,
             "#fdca26"
            ],
            [
             1,
             "#f0f921"
            ]
           ]
          },
          "colorway": [
           "#636efa",
           "#EF553B",
           "#00cc96",
           "#ab63fa",
           "#FFA15A",
           "#19d3f3",
           "#FF6692",
           "#B6E880",
           "#FF97FF",
           "#FECB52"
          ],
          "font": {
           "color": "#f2f5fa"
          },
          "geo": {
           "bgcolor": "rgb(17,17,17)",
           "lakecolor": "rgb(17,17,17)",
           "landcolor": "rgb(17,17,17)",
           "showlakes": true,
           "showland": true,
           "subunitcolor": "#506784"
          },
          "hoverlabel": {
           "align": "left"
          },
          "hovermode": "closest",
          "mapbox": {
           "style": "dark"
          },
          "paper_bgcolor": "rgb(17,17,17)",
          "plot_bgcolor": "rgb(17,17,17)",
          "polar": {
           "angularaxis": {
            "gridcolor": "#506784",
            "linecolor": "#506784",
            "ticks": ""
           },
           "bgcolor": "rgb(17,17,17)",
           "radialaxis": {
            "gridcolor": "#506784",
            "linecolor": "#506784",
            "ticks": ""
           }
          },
          "scene": {
           "xaxis": {
            "backgroundcolor": "rgb(17,17,17)",
            "gridcolor": "#506784",
            "gridwidth": 2,
            "linecolor": "#506784",
            "showbackground": true,
            "ticks": "",
            "zerolinecolor": "#C8D4E3"
           },
           "yaxis": {
            "backgroundcolor": "rgb(17,17,17)",
            "gridcolor": "#506784",
            "gridwidth": 2,
            "linecolor": "#506784",
            "showbackground": true,
            "ticks": "",
            "zerolinecolor": "#C8D4E3"
           },
           "zaxis": {
            "backgroundcolor": "rgb(17,17,17)",
            "gridcolor": "#506784",
            "gridwidth": 2,
            "linecolor": "#506784",
            "showbackground": true,
            "ticks": "",
            "zerolinecolor": "#C8D4E3"
           }
          },
          "shapedefaults": {
           "line": {
            "color": "#f2f5fa"
           }
          },
          "sliderdefaults": {
           "bgcolor": "#C8D4E3",
           "bordercolor": "rgb(17,17,17)",
           "borderwidth": 1,
           "tickwidth": 0
          },
          "ternary": {
           "aaxis": {
            "gridcolor": "#506784",
            "linecolor": "#506784",
            "ticks": ""
           },
           "baxis": {
            "gridcolor": "#506784",
            "linecolor": "#506784",
            "ticks": ""
           },
           "bgcolor": "rgb(17,17,17)",
           "caxis": {
            "gridcolor": "#506784",
            "linecolor": "#506784",
            "ticks": ""
           }
          },
          "title": {
           "x": 0.05
          },
          "updatemenudefaults": {
           "bgcolor": "#506784",
           "borderwidth": 0
          },
          "xaxis": {
           "automargin": true,
           "gridcolor": "#283442",
           "linecolor": "#506784",
           "ticks": "",
           "title": {
            "standoff": 15
           },
           "zerolinecolor": "#283442",
           "zerolinewidth": 2
          },
          "yaxis": {
           "automargin": true,
           "gridcolor": "#283442",
           "linecolor": "#506784",
           "ticks": "",
           "title": {
            "standoff": 15
           },
           "zerolinecolor": "#283442",
           "zerolinewidth": 2
          }
         }
        },
        "width": 1600
       }
      }
     },
     "metadata": {},
     "output_type": "display_data"
    }
   ],
   "source": [
    "# Create a wind rose plot\n",
    "fig = px.bar_polar(aggregated_data_forecast, r='FrequencyForecast', theta='WindDirBinForecast', color='WindForecast',\n",
    "                   template='plotly_dark', color_discrete_sequence=px.colors.sequential.Plasma_r)\n",
    "# Set the figure size\n",
    "fig.update_layout(width=1600, height=800)\n",
    "fig.show()"
   ]
  },
  {
   "cell_type": "code",
   "execution_count": 56,
   "metadata": {},
   "outputs": [
    {
     "data": {
      "text/plain": [
       "<seaborn.axisgrid.FacetGrid at 0x168d96c20>"
      ]
     },
     "execution_count": 56,
     "metadata": {},
     "output_type": "execute_result"
    },
    {
     "data": {
      "image/png": "[encoded data removed]",
      "text/plain": [
       "<Figure size 656.611x500 with 1 Axes>"
      ]
     },
     "metadata": {},
     "output_type": "display_data"
    }
   ],
   "source": [
    "df['Month'].astype('category')\n",
    "sns.displot(data=df, x='delta', hue='WindDirMeasuredBin', kind='hist')"
   ]
  },
  {
   "cell_type": "code",
   "execution_count": 74,
   "metadata": {},
   "outputs": [
    {
     "data": {
      "text/html": [
       "<div>\n",
       "<style scoped>\n",
       "    .dataframe tbody tr th:only-of-type {\n",
       "        vertical-align: middle;\n",
       "    }\n",
       "\n",
       "    .dataframe tbody tr th {\n",
       "        vertical-align: top;\n",
       "    }\n",
       "\n",
       "    .dataframe thead th {\n",
       "        text-align: right;\n",
       "    }\n",
       "</style>\n",
       "<table border=\"1\" class=\"dataframe\">\n",
       "  <thead>\n",
       "    <tr style=\"text-align: right;\">\n",
       "      <th></th>\n",
       "      <th>RightTableTime</th>\n",
       "      <th>WindMeasured</th>\n",
       "      <th>WindForecast</th>\n",
       "      <th>WindDirForecast</th>\n",
       "      <th>Month</th>\n",
       "      <th>CloudForecast</th>\n",
       "      <th>GustForecast</th>\n",
       "      <th>TempForecast</th>\n",
       "      <th>PrecipitationForecast</th>\n",
       "    </tr>\n",
       "  </thead>\n",
       "  <tbody>\n",
       "    <tr>\n",
       "      <th>0</th>\n",
       "      <td>2021-01-26 02:00:00</td>\n",
       "      <td>10.594167</td>\n",
       "      <td>12.0</td>\n",
       "      <td>287.0</td>\n",
       "      <td>1.0</td>\n",
       "      <td>100.0</td>\n",
       "      <td>16.0</td>\n",
       "      <td>2.0</td>\n",
       "      <td>0.0</td>\n",
       "    </tr>\n",
       "    <tr>\n",
       "      <th>1</th>\n",
       "      <td>2021-01-26 04:00:00</td>\n",
       "      <td>11.809167</td>\n",
       "      <td>9.0</td>\n",
       "      <td>280.0</td>\n",
       "      <td>1.0</td>\n",
       "      <td>100.0</td>\n",
       "      <td>15.0</td>\n",
       "      <td>1.0</td>\n",
       "      <td>0.0</td>\n",
       "    </tr>\n",
       "    <tr>\n",
       "      <th>2</th>\n",
       "      <td>2021-01-26 06:00:00</td>\n",
       "      <td>11.273333</td>\n",
       "      <td>11.0</td>\n",
       "      <td>272.0</td>\n",
       "      <td>1.0</td>\n",
       "      <td>100.0</td>\n",
       "      <td>17.0</td>\n",
       "      <td>1.0</td>\n",
       "      <td>0.0</td>\n",
       "    </tr>\n",
       "    <tr>\n",
       "      <th>3</th>\n",
       "      <td>2021-01-26 08:00:00</td>\n",
       "      <td>9.377500</td>\n",
       "      <td>10.0</td>\n",
       "      <td>283.0</td>\n",
       "      <td>1.0</td>\n",
       "      <td>100.0</td>\n",
       "      <td>15.0</td>\n",
       "      <td>1.0</td>\n",
       "      <td>0.1</td>\n",
       "    </tr>\n",
       "    <tr>\n",
       "      <th>4</th>\n",
       "      <td>2021-01-26 10:00:00</td>\n",
       "      <td>9.540833</td>\n",
       "      <td>8.0</td>\n",
       "      <td>295.0</td>\n",
       "      <td>1.0</td>\n",
       "      <td>92.0</td>\n",
       "      <td>14.0</td>\n",
       "      <td>1.0</td>\n",
       "      <td>0.1</td>\n",
       "    </tr>\n",
       "    <tr>\n",
       "      <th>...</th>\n",
       "      <td>...</td>\n",
       "      <td>...</td>\n",
       "      <td>...</td>\n",
       "      <td>...</td>\n",
       "      <td>...</td>\n",
       "      <td>...</td>\n",
       "      <td>...</td>\n",
       "      <td>...</td>\n",
       "      <td>...</td>\n",
       "    </tr>\n",
       "    <tr>\n",
       "      <th>10693</th>\n",
       "      <td>2023-10-02 16:00:00</td>\n",
       "      <td>5.135833</td>\n",
       "      <td>7.0</td>\n",
       "      <td>234.0</td>\n",
       "      <td>10.0</td>\n",
       "      <td>100.0</td>\n",
       "      <td>15.0</td>\n",
       "      <td>19.0</td>\n",
       "      <td>0.0</td>\n",
       "    </tr>\n",
       "    <tr>\n",
       "      <th>10694</th>\n",
       "      <td>2023-10-02 18:00:00</td>\n",
       "      <td>3.483333</td>\n",
       "      <td>8.0</td>\n",
       "      <td>229.0</td>\n",
       "      <td>10.0</td>\n",
       "      <td>100.0</td>\n",
       "      <td>17.0</td>\n",
       "      <td>19.0</td>\n",
       "      <td>0.2</td>\n",
       "    </tr>\n",
       "    <tr>\n",
       "      <th>10695</th>\n",
       "      <td>2023-10-02 20:00:00</td>\n",
       "      <td>1.488333</td>\n",
       "      <td>8.0</td>\n",
       "      <td>232.0</td>\n",
       "      <td>10.0</td>\n",
       "      <td>100.0</td>\n",
       "      <td>18.0</td>\n",
       "      <td>18.0</td>\n",
       "      <td>0.0</td>\n",
       "    </tr>\n",
       "    <tr>\n",
       "      <th>10696</th>\n",
       "      <td>2023-10-02 22:00:00</td>\n",
       "      <td>1.536667</td>\n",
       "      <td>8.0</td>\n",
       "      <td>223.0</td>\n",
       "      <td>10.0</td>\n",
       "      <td>100.0</td>\n",
       "      <td>19.0</td>\n",
       "      <td>18.0</td>\n",
       "      <td>0.0</td>\n",
       "    </tr>\n",
       "    <tr>\n",
       "      <th>10697</th>\n",
       "      <td>2023-10-03 00:00:00</td>\n",
       "      <td>2.315385</td>\n",
       "      <td>8.0</td>\n",
       "      <td>230.0</td>\n",
       "      <td>10.0</td>\n",
       "      <td>100.0</td>\n",
       "      <td>19.0</td>\n",
       "      <td>18.0</td>\n",
       "      <td>0.0</td>\n",
       "    </tr>\n",
       "  </tbody>\n",
       "</table>\n",
       "<p>10561 rows × 9 columns</p>\n",
       "</div>"
      ],
      "text/plain": [
       "           RightTableTime  WindMeasured  WindForecast  WindDirForecast  Month  \\\n",
       "0     2021-01-26 02:00:00     10.594167          12.0            287.0    1.0   \n",
       "1     2021-01-26 04:00:00     11.809167           9.0            280.0    1.0   \n",
       "2     2021-01-26 06:00:00     11.273333          11.0            272.0    1.0   \n",
       "3     2021-01-26 08:00:00      9.377500          10.0            283.0    1.0   \n",
       "4     2021-01-26 10:00:00      9.540833           8.0            295.0    1.0   \n",
       "...                   ...           ...           ...              ...    ...   \n",
       "10693 2023-10-02 16:00:00      5.135833           7.0            234.0   10.0   \n",
       "10694 2023-10-02 18:00:00      3.483333           8.0            229.0   10.0   \n",
       "10695 2023-10-02 20:00:00      1.488333           8.0            232.0   10.0   \n",
       "10696 2023-10-02 22:00:00      1.536667           8.0            223.0   10.0   \n",
       "10697 2023-10-03 00:00:00      2.315385           8.0            230.0   10.0   \n",
       "\n",
       "       CloudForecast  GustForecast  TempForecast  PrecipitationForecast  \n",
       "0              100.0          16.0           2.0                    0.0  \n",
       "1              100.0          15.0           1.0                    0.0  \n",
       "2              100.0          17.0           1.0                    0.0  \n",
       "3              100.0          15.0           1.0                    0.1  \n",
       "4               92.0          14.0           1.0                    0.1  \n",
       "...              ...           ...           ...                    ...  \n",
       "10693          100.0          15.0          19.0                    0.0  \n",
       "10694          100.0          17.0          19.0                    0.2  \n",
       "10695          100.0          18.0          18.0                    0.0  \n",
       "10696          100.0          19.0          18.0                    0.0  \n",
       "10697          100.0          19.0          18.0                    0.0  \n",
       "\n",
       "[10561 rows x 9 columns]"
      ]
     },
     "execution_count": 74,
     "metadata": {},
     "output_type": "execute_result"
    }
   ],
   "source": [
    "df_avg = df.groupby('RightTableTime')[['WindMeasured', 'WindForecast', 'WindDirForecast', 'Month', 'CloudForecast','GustForecast','TempForecast','PrecipitationForecast']].mean().reset_index().dropna()\n",
    "df_avg"
   ]
  },
  {
   "cell_type": "code",
   "execution_count": 80,
   "metadata": {},
   "outputs": [
    {
     "data": {
      "text/plain": [
       "{'WindForecast': 0.6639891978343645,\n",
       " 'WindDirForecast': 0.16944939459124392,\n",
       " 'Month': 0.035443622782352066,\n",
       " 'CloudForecast': 0.02270550073476974,\n",
       " 'GustForecast': 0.04408897970973543,\n",
       " 'TempForecast': 0.04874876962768056,\n",
       " 'PrecipitationForecast': 0.015574534719853829}"
      ]
     },
     "execution_count": 80,
     "metadata": {},
     "output_type": "execute_result"
    }
   ],
   "source": [
    "# Features and labels split\n",
    "X = df_avg[['WindForecast', 'WindDirForecast', 'Month', 'CloudForecast','GustForecast','TempForecast','PrecipitationForecast']]\n",
    "y = df_avg['WindMeasured']\n",
    "\n",
    "# Train Valid Split\n",
    "X_train, X_valid, y_train, y_valid = train_test_split(X, y, test_size=0.2, random_state=42)\n",
    "\n",
    "# Fit\n",
    "clf = RandomForestRegressor(n_estimators=100, random_state=42)\n",
    "clf.fit(X_train, y_train)\n",
    "\n",
    "# Display feature importance\n",
    "feature_importances = clf.feature_importances_\n",
    "\n",
    "feature_importances = dict(zip(X.columns,feature_importances))\n",
    "feature_importances"
   ]
  },
  {
   "cell_type": "code",
   "execution_count": 82,
   "metadata": {},
   "outputs": [
    {
     "name": "stdout",
     "output_type": "stream",
     "text": [
      "Mean Absolute Error: 2.16\n",
      "Mean Squared Error: 8.61\n",
      "R-squared (R2) Score: 0.78\n"
     ]
    }
   ],
   "source": [
    "# Predict on the validation set\n",
    "y_pred = clf.predict(X_valid)\n",
    "\n",
    "# Score \n",
    "from sklearn.metrics import mean_absolute_error, mean_squared_error, r2_score\n",
    "\n",
    "mae = mean_absolute_error(y_valid, y_pred)\n",
    "mse = mean_squared_error(y_valid, y_pred)\n",
    "r2 = r2_score(y_valid, y_pred)\n",
    "\n",
    "print(f\"Mean Absolute Error: {mae:.2f}\")\n",
    "print(f\"Mean Squared Error: {mse:.2f}\")\n",
    "print(f\"R-squared (R2) Score: {r2:.2f}\")"
   ]
  },
  {
   "cell_type": "code",
   "execution_count": 83,
   "metadata": {},
   "outputs": [
    {
     "data": {
      "text/plain": [
       "array([11.32322879,  6.98853333, 31.0486697 , ...,  7.51870833,\n",
       "        8.67475   , 12.634525  ])"
      ]
     },
     "execution_count": 83,
     "metadata": {},
     "output_type": "execute_result"
    }
   ],
   "source": [
    "y_pred"
   ]
  },
  {
   "cell_type": "code",
   "execution_count": 84,
   "metadata": {},
   "outputs": [
    {
     "data": {
      "text/html": [
       "<div>\n",
       "<style scoped>\n",
       "    .dataframe tbody tr th:only-of-type {\n",
       "        vertical-align: middle;\n",
       "    }\n",
       "\n",
       "    .dataframe tbody tr th {\n",
       "        vertical-align: top;\n",
       "    }\n",
       "\n",
       "    .dataframe thead th {\n",
       "        text-align: right;\n",
       "    }\n",
       "</style>\n",
       "<table border=\"1\" class=\"dataframe\">\n",
       "  <thead>\n",
       "    <tr style=\"text-align: right;\">\n",
       "      <th></th>\n",
       "      <th>WindForecast</th>\n",
       "      <th>WindDirForecast</th>\n",
       "      <th>Month</th>\n",
       "      <th>CloudForecast</th>\n",
       "      <th>GustForecast</th>\n",
       "      <th>TempForecast</th>\n",
       "      <th>PrecipitationForecast</th>\n",
       "    </tr>\n",
       "  </thead>\n",
       "  <tbody>\n",
       "    <tr>\n",
       "      <th>3324</th>\n",
       "      <td>11.0</td>\n",
       "      <td>154.0</td>\n",
       "      <td>10.0</td>\n",
       "      <td>100.0</td>\n",
       "      <td>25.0</td>\n",
       "      <td>12.0</td>\n",
       "      <td>0.0</td>\n",
       "    </tr>\n",
       "    <tr>\n",
       "      <th>5376</th>\n",
       "      <td>9.0</td>\n",
       "      <td>66.0</td>\n",
       "      <td>4.0</td>\n",
       "      <td>82.0</td>\n",
       "      <td>14.0</td>\n",
       "      <td>5.0</td>\n",
       "      <td>0.0</td>\n",
       "    </tr>\n",
       "    <tr>\n",
       "      <th>4655</th>\n",
       "      <td>24.0</td>\n",
       "      <td>292.0</td>\n",
       "      <td>2.0</td>\n",
       "      <td>100.0</td>\n",
       "      <td>37.0</td>\n",
       "      <td>4.0</td>\n",
       "      <td>0.0</td>\n",
       "    </tr>\n",
       "    <tr>\n",
       "      <th>1585</th>\n",
       "      <td>6.0</td>\n",
       "      <td>10.0</td>\n",
       "      <td>6.0</td>\n",
       "      <td>0.0</td>\n",
       "      <td>7.0</td>\n",
       "      <td>16.0</td>\n",
       "      <td>0.0</td>\n",
       "    </tr>\n",
       "    <tr>\n",
       "      <th>6370</th>\n",
       "      <td>12.0</td>\n",
       "      <td>329.0</td>\n",
       "      <td>7.0</td>\n",
       "      <td>6.0</td>\n",
       "      <td>11.0</td>\n",
       "      <td>23.0</td>\n",
       "      <td>0.0</td>\n",
       "    </tr>\n",
       "    <tr>\n",
       "      <th>...</th>\n",
       "      <td>...</td>\n",
       "      <td>...</td>\n",
       "      <td>...</td>\n",
       "      <td>...</td>\n",
       "      <td>...</td>\n",
       "      <td>...</td>\n",
       "      <td>...</td>\n",
       "    </tr>\n",
       "    <tr>\n",
       "      <th>324</th>\n",
       "      <td>4.0</td>\n",
       "      <td>219.0</td>\n",
       "      <td>2.0</td>\n",
       "      <td>0.0</td>\n",
       "      <td>5.0</td>\n",
       "      <td>3.0</td>\n",
       "      <td>0.0</td>\n",
       "    </tr>\n",
       "    <tr>\n",
       "      <th>10055</th>\n",
       "      <td>8.0</td>\n",
       "      <td>233.0</td>\n",
       "      <td>7.0</td>\n",
       "      <td>100.0</td>\n",
       "      <td>15.0</td>\n",
       "      <td>14.0</td>\n",
       "      <td>0.0</td>\n",
       "    </tr>\n",
       "    <tr>\n",
       "      <th>1118</th>\n",
       "      <td>9.0</td>\n",
       "      <td>120.0</td>\n",
       "      <td>4.0</td>\n",
       "      <td>100.0</td>\n",
       "      <td>16.0</td>\n",
       "      <td>6.0</td>\n",
       "      <td>0.0</td>\n",
       "    </tr>\n",
       "    <tr>\n",
       "      <th>9419</th>\n",
       "      <td>11.0</td>\n",
       "      <td>250.0</td>\n",
       "      <td>4.0</td>\n",
       "      <td>6.0</td>\n",
       "      <td>21.0</td>\n",
       "      <td>4.0</td>\n",
       "      <td>0.0</td>\n",
       "    </tr>\n",
       "    <tr>\n",
       "      <th>10394</th>\n",
       "      <td>11.0</td>\n",
       "      <td>291.0</td>\n",
       "      <td>9.0</td>\n",
       "      <td>0.0</td>\n",
       "      <td>13.0</td>\n",
       "      <td>20.0</td>\n",
       "      <td>0.0</td>\n",
       "    </tr>\n",
       "  </tbody>\n",
       "</table>\n",
       "<p>2113 rows × 7 columns</p>\n",
       "</div>"
      ],
      "text/plain": [
       "       WindForecast  WindDirForecast  Month  CloudForecast  GustForecast  \\\n",
       "3324           11.0            154.0   10.0          100.0          25.0   \n",
       "5376            9.0             66.0    4.0           82.0          14.0   \n",
       "4655           24.0            292.0    2.0          100.0          37.0   \n",
       "1585            6.0             10.0    6.0            0.0           7.0   \n",
       "6370           12.0            329.0    7.0            6.0          11.0   \n",
       "...             ...              ...    ...            ...           ...   \n",
       "324             4.0            219.0    2.0            0.0           5.0   \n",
       "10055           8.0            233.0    7.0          100.0          15.0   \n",
       "1118            9.0            120.0    4.0          100.0          16.0   \n",
       "9419           11.0            250.0    4.0            6.0          21.0   \n",
       "10394          11.0            291.0    9.0            0.0          13.0   \n",
       "\n",
       "       TempForecast  PrecipitationForecast  \n",
       "3324           12.0                    0.0  \n",
       "5376            5.0                    0.0  \n",
       "4655            4.0                    0.0  \n",
       "1585           16.0                    0.0  \n",
       "6370           23.0                    0.0  \n",
       "...             ...                    ...  \n",
       "324             3.0                    0.0  \n",
       "10055          14.0                    0.0  \n",
       "1118            6.0                    0.0  \n",
       "9419            4.0                    0.0  \n",
       "10394          20.0                    0.0  \n",
       "\n",
       "[2113 rows x 7 columns]"
      ]
     },
     "execution_count": 84,
     "metadata": {},
     "output_type": "execute_result"
    }
   ],
   "source": [
    "X_valid"
   ]
  },
  {
   "cell_type": "code",
   "execution_count": 85,
   "metadata": {},
   "outputs": [
    {
     "data": {
      "text/plain": [
       "3324      9.930000\n",
       "5376      9.735833\n",
       "4655     27.585833\n",
       "1585     10.025833\n",
       "6370     13.395000\n",
       "           ...    \n",
       "324       5.280833\n",
       "10055     5.248333\n",
       "1118      6.901667\n",
       "9419      6.400000\n",
       "10394    10.528333\n",
       "Name: WindMeasured, Length: 2113, dtype: float64"
      ]
     },
     "execution_count": 85,
     "metadata": {},
     "output_type": "execute_result"
    }
   ],
   "source": [
    "y_valid"
   ]
  }
 ],
 "metadata": {
  "kernelspec": {
   "display_name": "Python 3",
   "language": "python",
   "name": "python3"
  },
  "language_info": {
   "codemirror_mode": {
    "name": "ipython",
    "version": 3
   },
   "file_extension": ".py",
   "mimetype": "text/x-python",
   "name": "python",
   "nbconvert_exporter": "python",
   "pygments_lexer": "ipython3",
   "version": "3.10.12"
  },
  "orig_nbformat": 4
 },
 "nbformat": 4,
 "nbformat_minor": 2
}
