{
 "cells": [
  {
   "cell_type": "code",
   "execution_count": null,
   "metadata": {},
   "outputs": [],
   "source": [
    "from sklearn.model_selection import cross_val_score\n",
    "from sklearn.model_selection import KFold\n",
    "from sklearn.model_selection import GridSearchCV\n",
    "import xgboost as xgb\n",
    "\n",
    "import mlflow\n",
    "import mlflow.sklearn\n",
    "import mlflow.pyfunc"
   ]
  },
  {
   "cell_type": "code",
   "execution_count": null,
   "metadata": {},
   "outputs": [],
   "source": [
    "def parameter_tuning(self, parameters):\n",
    "    self.k_fold = KFold(n_splits=5, shuffle=True, random_state=42)\n",
    "\n",
    "    # Grid search\n",
    "    xgb_regressor = xgb.XGBRegressor()\n",
    "    grid = GridSearchCV(xgb_regressor, parameters, cv=self.k_fold)\n",
    "    grid.fit(self.X, self.y)\n",
    "\n",
    "    self.best_max_depth = grid.best_params_['max_depth']\n",
    "    self.best_learning_rate = grid.best_params_['learning_rate']\n",
    "    self.best_n_estimators = grid.best_params_['n_estimators']\n",
    "    # Add other best hyperparameters as needed\n",
    "\n",
    "    mlflow.log_param(f'best_max_depth', self.best_max_depth)\n",
    "    mlflow.log_param(f'best_learning_rate', self.best_learning_rate)\n",
    "    mlflow.log_param(f'best_n_estimators', self.best_n_estimators)\n",
    "\n",
    "    self.model = xgb.XGBRegressor(\n",
    "                                max_depth=self.best_max_depth,\n",
    "                                learning_rate=self.best_learning_rate,\n",
    "                                n_estimators=self.best_n_estimators,\n",
    "                                )"
   ]
  }
 ],
 "metadata": {
  "kernelspec": {
   "display_name": "Python 3",
   "language": "python",
   "name": "python3"
  },
  "language_info": {
   "name": "python",
   "version": "3.10.12"
  },
  "orig_nbformat": 4
 },
 "nbformat": 4,
 "nbformat_minor": 2
}
