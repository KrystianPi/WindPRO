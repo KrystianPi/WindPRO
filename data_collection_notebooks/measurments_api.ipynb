{
 "cells": [
  {
   "cell_type": "code",
   "execution_count": 1,
   "metadata": {},
   "outputs": [],
   "source": [
    "import requests\n",
    "from bs4 import BeautifulSoup\n",
    "import re\n",
    "import numpy as np\n",
    "import ast\n",
    "import pandas as pd\n",
    "from datetime import datetime, timedelta\n",
    "import time\n",
    "import seaborn as sns\n",
    "import matplotlib.pyplot as plt\n",
    "import warnings\n",
    "from sqlalchemy import create_engine\n",
    "import json\n",
    "warnings.filterwarnings(\"ignore\")"
   ]
  },
  {
   "cell_type": "code",
   "execution_count": 3,
   "metadata": {},
   "outputs": [
    {
     "data": {
      "text/plain": [
       "[datetime.datetime(2023, 10, 6, 0, 0), datetime.datetime(2023, 10, 7, 0, 0)]"
      ]
     },
     "execution_count": 3,
     "metadata": {},
     "output_type": "execute_result"
    }
   ],
   "source": [
    "START_DATE = datetime(2023, 10, 6)\n",
    "today = datetime.today()\n",
    "day_list = []\n",
    "\n",
    "while START_DATE <= today:\n",
    "    day_list.append(START_DATE)\n",
    "    START_DATE += timedelta(days=1)\n",
    "\n",
    "day_list"
   ]
  },
  {
   "cell_type": "code",
   "execution_count": 4,
   "metadata": {},
   "outputs": [
    {
     "name": "stdout",
     "output_type": "stream",
     "text": [
      "Current processed day: 6.10.2023\n",
      "144\n",
      "144\n",
      "Current processed day: 7.10.2023\n",
      "94\n",
      "94\n"
     ]
    }
   ],
   "source": [
    "df = pd.DataFrame()\n",
    "for date in day_list:\n",
    "    day = date.day\n",
    "    month = date.month\n",
    "    year = date.year\n",
    "\n",
    "    print(f'Current processed day: {day}.{month}.{year}')\n",
    "    \n",
    "\n",
    "    url = f\"http://www.wiatrkadyny.pl/rewa/wxwugraphs/graphd1a.php?theme=pepper&d={day}&m={month}&y={year}&w=900&h=350\"\n",
    "\n",
    "\n",
    "    response = requests.get(url)\n",
    "    if response.status_code == 200:\n",
    "        soup = BeautifulSoup(response.text, 'html.parser')\n",
    "    else:\n",
    "        print(f\"Failed to fetch data from {url}\")\n",
    "\n",
    "    patternWindSpeed = r'var dAvgWS\\s*=\\s*(\\[.*?\\]);'\n",
    "    patternWindGust = r'var dGustWS\\s*=\\s*(\\[.*?\\]);'\n",
    "    patternTemp = r'var dTemp\\s*=\\s*(\\[.*?\\]);'\n",
    "    patternWindDir = r'var dWindDir\\s*=\\s*(\\[.*?\\]);'\n",
    "    patternBaro = r'var dBaro\\s*=\\s*(\\[.*?\\]);'\n",
    "\n",
    "    # Use re.findall to find all matches in the HTML content\n",
    "    WindSpeed = re.findall(patternWindSpeed, str(soup.contents), re.IGNORECASE | re.DOTALL)\n",
    "    WindGust = re.findall(patternWindGust, str(soup.contents), re.IGNORECASE | re.DOTALL)\n",
    "    Temp = re.findall(patternTemp, str(soup.contents), re.IGNORECASE | re.DOTALL)\n",
    "    WindDir = re.findall(patternWindDir, str(soup.contents), re.IGNORECASE | re.DOTALL)\n",
    "    Baro = re.findall(patternBaro, str(soup.contents), re.IGNORECASE | re.DOTALL)\n",
    "\n",
    "    # Remove the trailing comma to make it a valid JSON-like format\n",
    "    WindSpeed = ast.literal_eval(WindSpeed[0].rstrip(','))[:-1]\n",
    "    WindGust = ast.literal_eval(WindGust[0].rstrip(','))[:-1]\n",
    "    Temp = ast.literal_eval(Temp[0].rstrip(','))[:-1]\n",
    "    WindDir = ast.literal_eval(WindDir[0].rstrip(','))[:-1]\n",
    "    Baro = ast.literal_eval(Baro[0].rstrip(','))[:-1]\n",
    "\n",
    "    # Convert from m/s to knots\n",
    "    WindSpeed = [np.round(speed * 1.94384449,2) for speed in WindSpeed]\n",
    "    WindGust = [np.round(speed * 1.94384449,2) for speed in WindGust]\n",
    "\n",
    "    # Define the date and time components\n",
    "    hour = 0  # Starting hour\n",
    "    minute = 0  # Starting minute\n",
    "    second = 0  # Starting second\n",
    "\n",
    "    # Create a list to store datetime values\n",
    "    datetime_values = []\n",
    "\n",
    "    # Define the time interval (10 minutes)\n",
    "    time_interval = timedelta(minutes=10)\n",
    "\n",
    "    # Create datetime values with 10-minute intervals for the entire day\n",
    "    while hour < 24:\n",
    "        current_datetime = datetime(year, month, day, hour, minute, second)\n",
    "        datetime_values.append(current_datetime)\n",
    "        minute += 10\n",
    "        if minute == 60:\n",
    "            minute = 0\n",
    "            hour += 1\n",
    "\n",
    "    print(len(WindSpeed))\n",
    "    print(len(datetime_values[:(len(WindSpeed))]))\n",
    "\n",
    "    # Create a DataFrame\n",
    "    data = {\n",
    "        'Time': datetime_values[:(len(WindSpeed))],\n",
    "        'WindSpeed': WindSpeed,\n",
    "        'WindGust': WindGust,\n",
    "        'Temp': Temp,\n",
    "        'WindDir': WindDir,\n",
    "        'Baro': Baro\n",
    "    }\n",
    "    try:\n",
    "        df_i = pd.DataFrame(data)\n",
    "        df = pd.concat([df,df_i])\n",
    "    except:\n",
    "        print(f'Data inconsistent for day: {day}.{month}.{year}. Skiping...')\n",
    "        pass\n",
    "    time.sleep(3)\n"
   ]
  },
  {
   "cell_type": "code",
   "execution_count": 5,
   "metadata": {},
   "outputs": [
    {
     "data": {
      "text/html": [
       "<div>\n",
       "<style scoped>\n",
       "    .dataframe tbody tr th:only-of-type {\n",
       "        vertical-align: middle;\n",
       "    }\n",
       "\n",
       "    .dataframe tbody tr th {\n",
       "        vertical-align: top;\n",
       "    }\n",
       "\n",
       "    .dataframe thead th {\n",
       "        text-align: right;\n",
       "    }\n",
       "</style>\n",
       "<table border=\"1\" class=\"dataframe\">\n",
       "  <thead>\n",
       "    <tr style=\"text-align: right;\">\n",
       "      <th></th>\n",
       "      <th>Time</th>\n",
       "      <th>WindSpeed</th>\n",
       "      <th>WindGust</th>\n",
       "      <th>Temp</th>\n",
       "      <th>WindDir</th>\n",
       "      <th>Baro</th>\n",
       "    </tr>\n",
       "  </thead>\n",
       "  <tbody>\n",
       "    <tr>\n",
       "      <th>0</th>\n",
       "      <td>2023-10-06 00:00:00</td>\n",
       "      <td>5.25</td>\n",
       "      <td>9.91</td>\n",
       "      <td>9.6</td>\n",
       "      <td>194</td>\n",
       "      <td>1016.5</td>\n",
       "    </tr>\n",
       "    <tr>\n",
       "      <th>1</th>\n",
       "      <td>2023-10-06 00:10:00</td>\n",
       "      <td>5.25</td>\n",
       "      <td>9.33</td>\n",
       "      <td>9.5</td>\n",
       "      <td>208</td>\n",
       "      <td>1016.5</td>\n",
       "    </tr>\n",
       "    <tr>\n",
       "      <th>2</th>\n",
       "      <td>2023-10-06 00:20:00</td>\n",
       "      <td>5.25</td>\n",
       "      <td>9.33</td>\n",
       "      <td>9.4</td>\n",
       "      <td>200</td>\n",
       "      <td>1016.6</td>\n",
       "    </tr>\n",
       "    <tr>\n",
       "      <th>3</th>\n",
       "      <td>2023-10-06 00:30:00</td>\n",
       "      <td>5.25</td>\n",
       "      <td>9.91</td>\n",
       "      <td>9.4</td>\n",
       "      <td>195</td>\n",
       "      <td>1016.7</td>\n",
       "    </tr>\n",
       "    <tr>\n",
       "      <th>4</th>\n",
       "      <td>2023-10-06 00:40:00</td>\n",
       "      <td>6.03</td>\n",
       "      <td>11.27</td>\n",
       "      <td>9.4</td>\n",
       "      <td>207</td>\n",
       "      <td>1016.8</td>\n",
       "    </tr>\n",
       "    <tr>\n",
       "      <th>...</th>\n",
       "      <td>...</td>\n",
       "      <td>...</td>\n",
       "      <td>...</td>\n",
       "      <td>...</td>\n",
       "      <td>...</td>\n",
       "      <td>...</td>\n",
       "    </tr>\n",
       "    <tr>\n",
       "      <th>89</th>\n",
       "      <td>2023-10-07 14:50:00</td>\n",
       "      <td>21.19</td>\n",
       "      <td>29.16</td>\n",
       "      <td>13.3</td>\n",
       "      <td>293</td>\n",
       "      <td>1007.2</td>\n",
       "    </tr>\n",
       "    <tr>\n",
       "      <th>90</th>\n",
       "      <td>2023-10-07 15:00:00</td>\n",
       "      <td>21.19</td>\n",
       "      <td>27.02</td>\n",
       "      <td>13.2</td>\n",
       "      <td>294</td>\n",
       "      <td>1007.2</td>\n",
       "    </tr>\n",
       "    <tr>\n",
       "      <th>91</th>\n",
       "      <td>2023-10-07 15:10:00</td>\n",
       "      <td>20.41</td>\n",
       "      <td>25.08</td>\n",
       "      <td>13.1</td>\n",
       "      <td>294</td>\n",
       "      <td>1007.4</td>\n",
       "    </tr>\n",
       "    <tr>\n",
       "      <th>92</th>\n",
       "      <td>2023-10-07 15:20:00</td>\n",
       "      <td>17.88</td>\n",
       "      <td>25.08</td>\n",
       "      <td>13.1</td>\n",
       "      <td>294</td>\n",
       "      <td>1007.3</td>\n",
       "    </tr>\n",
       "    <tr>\n",
       "      <th>93</th>\n",
       "      <td>2023-10-07 15:30:00</td>\n",
       "      <td>19.83</td>\n",
       "      <td>25.08</td>\n",
       "      <td>12.9</td>\n",
       "      <td>300</td>\n",
       "      <td>1007.4</td>\n",
       "    </tr>\n",
       "  </tbody>\n",
       "</table>\n",
       "<p>238 rows × 6 columns</p>\n",
       "</div>"
      ],
      "text/plain": [
       "                  Time  WindSpeed  WindGust  Temp  WindDir    Baro\n",
       "0  2023-10-06 00:00:00       5.25      9.91   9.6      194  1016.5\n",
       "1  2023-10-06 00:10:00       5.25      9.33   9.5      208  1016.5\n",
       "2  2023-10-06 00:20:00       5.25      9.33   9.4      200  1016.6\n",
       "3  2023-10-06 00:30:00       5.25      9.91   9.4      195  1016.7\n",
       "4  2023-10-06 00:40:00       6.03     11.27   9.4      207  1016.8\n",
       "..                 ...        ...       ...   ...      ...     ...\n",
       "89 2023-10-07 14:50:00      21.19     29.16  13.3      293  1007.2\n",
       "90 2023-10-07 15:00:00      21.19     27.02  13.2      294  1007.2\n",
       "91 2023-10-07 15:10:00      20.41     25.08  13.1      294  1007.4\n",
       "92 2023-10-07 15:20:00      17.88     25.08  13.1      294  1007.3\n",
       "93 2023-10-07 15:30:00      19.83     25.08  12.9      300  1007.4\n",
       "\n",
       "[238 rows x 6 columns]"
      ]
     },
     "execution_count": 5,
     "metadata": {},
     "output_type": "execute_result"
    }
   ],
   "source": [
    "df"
   ]
  },
  {
   "cell_type": "code",
   "execution_count": 6,
   "metadata": {},
   "outputs": [
    {
     "data": {
      "text/plain": [
       "<Axes: xlabel='Time', ylabel='WindSpeed'>"
      ]
     },
     "execution_count": 6,
     "metadata": {},
     "output_type": "execute_result"
    },
    {
     "data": {
      "image/png": "[encoded data removed]",
      "text/plain": [
       "<Figure size 640x480 with 1 Axes>"
      ]
     },
     "metadata": {},
     "output_type": "display_data"
    }
   ],
   "source": [
    "sns.lineplot(data=df, x='Time', y='WindSpeed')"
   ]
  },
  {
   "cell_type": "code",
   "execution_count": 7,
   "metadata": {},
   "outputs": [],
   "source": [
    "df.to_csv('data.csv')"
   ]
  },
  {
   "cell_type": "code",
   "execution_count": 11,
   "metadata": {},
   "outputs": [],
   "source": [
    "# Read the MySQL configuration from the JSON file\n",
    "with open('../config.json', 'r') as config_file:\n",
    "    config = json.load(config_file)"
   ]
  },
  {
   "cell_type": "code",
   "execution_count": 12,
   "metadata": {},
   "outputs": [],
   "source": [
    "# Extract MySQL connection details\n",
    "mysql_config = config.get('mysql', {})\n",
    "username = mysql_config.get('username', 'default_username')\n",
    "password = mysql_config.get('password', 'default_password')\n",
    "host = mysql_config.get('host', 'localhost')\n",
    "database_name = mysql_config.get('database_name', 'your_database')\n",
    "table_name = 'measurments_rewa'"
   ]
  },
  {
   "cell_type": "code",
   "execution_count": 13,
   "metadata": {},
   "outputs": [],
   "source": [
    "# Create the MySQL database connection string\n",
    "db_url = f\"mysql+mysqlconnector://{username}:{password}@{host}/{database_name}\"\n",
    "\n",
    "# Create an SQLAlchemy engine\n",
    "engine = create_engine(db_url)"
   ]
  },
  {
   "cell_type": "code",
   "execution_count": 14,
   "metadata": {},
   "outputs": [],
   "source": [
    "option = 'append'\n",
    "#option = 'replace'"
   ]
  },
  {
   "cell_type": "code",
   "execution_count": 15,
   "metadata": {},
   "outputs": [
    {
     "data": {
      "text/plain": [
       "238"
      ]
     },
     "execution_count": 15,
     "metadata": {},
     "output_type": "execute_result"
    }
   ],
   "source": [
    "# Insert the Pandas DataFrame into the MySQL table\n",
    "df.to_sql(table_name, engine, if_exists=option, index=False)"
   ]
  }
 ],
 "metadata": {
  "kernelspec": {
   "display_name": "Python 3",
   "language": "python",
   "name": "python3"
  },
  "language_info": {
   "codemirror_mode": {
    "name": "ipython",
    "version": 3
   },
   "file_extension": ".py",
   "mimetype": "text/x-python",
   "name": "python",
   "nbconvert_exporter": "python",
   "pygments_lexer": "ipython3",
   "version": "3.10.12"
  },
  "orig_nbformat": 4
 },
 "nbformat": 4,
 "nbformat_minor": 2
}
