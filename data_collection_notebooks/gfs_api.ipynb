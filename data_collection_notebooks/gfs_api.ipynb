{
 "cells": [
  {
   "cell_type": "code",
   "execution_count": 4,
   "metadata": {},
   "outputs": [],
   "source": [
    "import requests\n",
    "import pandas as pd"
   ]
  },
  {
   "cell_type": "code",
   "execution_count": 2,
   "metadata": {},
   "outputs": [
    {
     "name": "stdout",
     "output_type": "stream",
     "text": [
      "Time: ['2023-10-06T00:00', '2023-10-06T01:00', '2023-10-06T02:00', '2023-10-06T03:00', '2023-10-06T04:00', '2023-10-06T05:00', '2023-10-06T06:00', '2023-10-06T07:00', '2023-10-06T08:00', '2023-10-06T09:00', '2023-10-06T10:00', '2023-10-06T11:00', '2023-10-06T12:00', '2023-10-06T13:00', '2023-10-06T14:00', '2023-10-06T15:00', '2023-10-06T16:00', '2023-10-06T17:00', '2023-10-06T18:00', '2023-10-06T19:00', '2023-10-06T20:00', '2023-10-06T21:00', '2023-10-06T22:00', '2023-10-06T23:00', '2023-10-07T00:00', '2023-10-07T01:00', '2023-10-07T02:00', '2023-10-07T03:00', '2023-10-07T04:00', '2023-10-07T05:00', '2023-10-07T06:00', '2023-10-07T07:00', '2023-10-07T08:00', '2023-10-07T09:00', '2023-10-07T10:00', '2023-10-07T11:00', '2023-10-07T12:00', '2023-10-07T13:00', '2023-10-07T14:00', '2023-10-07T15:00', '2023-10-07T16:00', '2023-10-07T17:00', '2023-10-07T18:00', '2023-10-07T19:00', '2023-10-07T20:00', '2023-10-07T21:00', '2023-10-07T22:00', '2023-10-07T23:00', '2023-10-08T00:00', '2023-10-08T01:00', '2023-10-08T02:00', '2023-10-08T03:00', '2023-10-08T04:00', '2023-10-08T05:00', '2023-10-08T06:00', '2023-10-08T07:00', '2023-10-08T08:00', '2023-10-08T09:00', '2023-10-08T10:00', '2023-10-08T11:00', '2023-10-08T12:00', '2023-10-08T13:00', '2023-10-08T14:00', '2023-10-08T15:00', '2023-10-08T16:00', '2023-10-08T17:00', '2023-10-08T18:00', '2023-10-08T19:00', '2023-10-08T20:00', '2023-10-08T21:00', '2023-10-08T22:00', '2023-10-08T23:00']\n",
      "Windspeed at 10m: [7.0, 6.3, 5.5, 5.7, 5.8, 6.3, 7.3, 8.6, 8.9, 9.1, 10.4, 9.4, 10.6, 13.0, 15.8, 15.6, 18.9, 20.0, 20.1, 19.9, 20.0, 21.1, 22.6, 23.3, 24.0, 25.1, 28.1, 30.3, 31.3, 33.7, 32.4, 30.0, 27.9, 26.5, 25.2, 23.4, 22.3, 21.7, 20.6, 18.2, 17.4, 16.5, 14.7, 13.8, 14.7, 16.4, 15.4, 16.2, 17.1, 17.4, 18.2, 19.0, 18.8, 19.6, 20.3, 20.6, 20.9, 20.8, 20.7, 21.1, 21.4, 21.0, 20.4, 19.9, 18.8, 18.5, 16.9, 15.7, 14.9, 14.7, 14.5, 14.6] knots\n",
      "Wind Direction at 10m: [293, 292, 293, 274, 255, 240, 236, 237, 232, 225, 223, 214, 206, 213, 241, 238, 235, 239, 239, 239, 239, 240, 245, 244, 244, 247, 257, 261, 264, 274, 278, 282, 280, 283, 286, 293, 299, 300, 304, 307, 311, 316, 325, 329, 326, 330, 331, 327, 326, 328, 329, 327, 326, 328, 328, 327, 327, 328, 330, 328, 327, 327, 327, 327, 327, 327, 328, 329, 328, 325, 321, 317] degrees\n",
      "Wind Gusts at 10m: [9.7, 9.1, 5.8, 6.0, 7.4, 10.7, 12.4, 13.6, 15.6, 17.5, 17.9, 19.6, 22.0, 28.2, 30.1, 31.3, 34.0, 32.3, 32.7, 33.0, 33.8, 35.8, 37.1, 39.3, 41.0, 44.5, 47.0, 50.5, 50.2, 47.8, 46.1, 40.2, 37.5, 35.0, 33.0, 30.1, 28.2, 27.6, 25.7, 21.6, 21.8, 19.8, 17.5, 18.1, 19.8, 19.6, 18.5, 19.2, 20.4, 20.6, 21.8, 22.9, 22.9, 23.7, 24.5, 25.3, 25.7, 26.2, 25.9, 26.2, 25.9, 25.9, 25.3, 24.7, 23.5, 22.2, 21.6, 21.4, 20.8, 20.4, 20.0, 19.6] knots\n"
     ]
    }
   ],
   "source": [
    "# Define the API URL\n",
    "api_url = \"https://api.open-meteo.com/v1/gfs\"\n",
    "\n",
    "# Define the parameters for the API request\n",
    "params = {\n",
    "    \"latitude\": 54.76,\n",
    "    \"longitude\": 18.51,\n",
    "    \"hourly\": \"windspeed_10m,windgusts_10m,winddirection_10m\",\n",
    "    \"windspeed_unit\": \"kn\",\n",
    "    \"timezone\": \"Europe/Berlin\",\n",
    "    \"forecast_days\": 3,\n",
    "}\n",
    "# Make the GET request to the API\n",
    "response = requests.get(api_url, params=params)\n",
    "\n",
    "if response.status_code == 200:\n",
    "    # Parse the JSON response\n",
    "    data = response.json()\n",
    "\n",
    "    # Access the specific data you need (e.g., windspeed, wind direction, and wind gusts)\n",
    "    time = data['hourly']['time']\n",
    "    windspeed_10m = data[\"hourly\"][\"windspeed_10m\"]\n",
    "    winddirection_10m = data[\"hourly\"][\"winddirection_10m\"]\n",
    "    windgusts_10m = data[\"hourly\"][\"windgusts_10m\"]\n",
    "    \n",
    "    # Do something with the data (e.g., print it)\n",
    "    print(f\"Time: {time}\")\n",
    "    print(f\"Windspeed at 10m: {windspeed_10m} knots\")\n",
    "    print(f\"Wind Direction at 10m: {winddirection_10m} degrees\")\n",
    "    print(f\"Wind Gusts at 10m: {windgusts_10m} knots\")\n",
    "else:\n",
    "    # Handle the error\n",
    "    print(f\"Failed to retrieve data. Status code: {response.status_code}\")"
   ]
  },
  {
   "cell_type": "code",
   "execution_count": 13,
   "metadata": {},
   "outputs": [
    {
     "data": {
      "text/html": [
       "<div>\n",
       "<style scoped>\n",
       "    .dataframe tbody tr th:only-of-type {\n",
       "        vertical-align: middle;\n",
       "    }\n",
       "\n",
       "    .dataframe tbody tr th {\n",
       "        vertical-align: top;\n",
       "    }\n",
       "\n",
       "    .dataframe thead th {\n",
       "        text-align: right;\n",
       "    }\n",
       "</style>\n",
       "<table border=\"1\" class=\"dataframe\">\n",
       "  <thead>\n",
       "    <tr style=\"text-align: right;\">\n",
       "      <th></th>\n",
       "      <th>Time</th>\n",
       "      <th>Month</th>\n",
       "      <th>Hour</th>\n",
       "      <th>WindForecast</th>\n",
       "      <th>GustForecast</th>\n",
       "      <th>WindDirForecast</th>\n",
       "    </tr>\n",
       "  </thead>\n",
       "  <tbody>\n",
       "    <tr>\n",
       "      <th>0</th>\n",
       "      <td>2023-10-06 00:00:00</td>\n",
       "      <td>10</td>\n",
       "      <td>0</td>\n",
       "      <td>7.0</td>\n",
       "      <td>9.7</td>\n",
       "      <td>293</td>\n",
       "    </tr>\n",
       "    <tr>\n",
       "      <th>1</th>\n",
       "      <td>2023-10-06 01:00:00</td>\n",
       "      <td>10</td>\n",
       "      <td>1</td>\n",
       "      <td>6.3</td>\n",
       "      <td>9.1</td>\n",
       "      <td>292</td>\n",
       "    </tr>\n",
       "    <tr>\n",
       "      <th>2</th>\n",
       "      <td>2023-10-06 02:00:00</td>\n",
       "      <td>10</td>\n",
       "      <td>2</td>\n",
       "      <td>5.5</td>\n",
       "      <td>5.8</td>\n",
       "      <td>293</td>\n",
       "    </tr>\n",
       "    <tr>\n",
       "      <th>3</th>\n",
       "      <td>2023-10-06 03:00:00</td>\n",
       "      <td>10</td>\n",
       "      <td>3</td>\n",
       "      <td>5.7</td>\n",
       "      <td>6.0</td>\n",
       "      <td>274</td>\n",
       "    </tr>\n",
       "    <tr>\n",
       "      <th>4</th>\n",
       "      <td>2023-10-06 04:00:00</td>\n",
       "      <td>10</td>\n",
       "      <td>4</td>\n",
       "      <td>5.8</td>\n",
       "      <td>7.4</td>\n",
       "      <td>255</td>\n",
       "    </tr>\n",
       "  </tbody>\n",
       "</table>\n",
       "</div>"
      ],
      "text/plain": [
       "                 Time  Month  Hour  WindForecast  GustForecast  \\\n",
       "0 2023-10-06 00:00:00     10     0           7.0           9.7   \n",
       "1 2023-10-06 01:00:00     10     1           6.3           9.1   \n",
       "2 2023-10-06 02:00:00     10     2           5.5           5.8   \n",
       "3 2023-10-06 03:00:00     10     3           5.7           6.0   \n",
       "4 2023-10-06 04:00:00     10     4           5.8           7.4   \n",
       "\n",
       "   WindDirForecast  \n",
       "0              293  \n",
       "1              292  \n",
       "2              293  \n",
       "3              274  \n",
       "4              255  "
      ]
     },
     "execution_count": 13,
     "metadata": {},
     "output_type": "execute_result"
    }
   ],
   "source": [
    "df = pd.DataFrame()\n",
    "df['Time'] = pd.to_datetime(time)\n",
    "df['Month'] = df['Time'].dt.month\n",
    "df['Hour'] = df['Time'].dt.hour\n",
    "df['WindForecast'] = windspeed_10m\n",
    "df['GustForecast'] = windgusts_10m\n",
    "df['WindDirForecast'] = winddirection_10m\n",
    "df.head()"
   ]
  },
  {
   "cell_type": "code",
   "execution_count": 14,
   "metadata": {},
   "outputs": [],
   "source": [
    "df.to_csv('forecast.csv')"
   ]
  }
 ],
 "metadata": {
  "kernelspec": {
   "display_name": "Python 3",
   "language": "python",
   "name": "python3"
  },
  "language_info": {
   "codemirror_mode": {
    "name": "ipython",
    "version": 3
   },
   "file_extension": ".py",
   "mimetype": "text/x-python",
   "name": "python",
   "nbconvert_exporter": "python",
   "pygments_lexer": "ipython3",
   "version": "3.10.12"
  },
  "orig_nbformat": 4
 },
 "nbformat": 4,
 "nbformat_minor": 2
}
